{
 "cells": [
  {
   "cell_type": "code",
   "execution_count": 365,
   "metadata": {},
   "outputs": [],
   "source": [
    "import csv\n",
    "import pyspark.sql.functions as F\n",
    "from pyspark.sql.functions import lit\n",
    "from pyspark.sql import *\n",
    "from pyspark.sql.types import *\n",
    "import re"
   ]
  },
  {
   "cell_type": "code",
   "execution_count": 366,
   "metadata": {},
   "outputs": [],
   "source": [
    "metadata = spark.read.format(\"csv\").option(\"header\", \"true\").load(\"/Users/lily/Documents/school/Data Mining/the-movies-dataset/movies_metadata.csv\")\n",
    "credits = spark.read.format(\"csv\").option(\"header\", \"true\").load(\"/Users/lily/Documents/school/Data Mining/the-movies-dataset/credits.csv\")"
   ]
  },
  {
   "cell_type": "code",
   "execution_count": 367,
   "metadata": {},
   "outputs": [],
   "source": [
    "metadata_movies_start = metadata.select(\"id\", \"title\", \"original_language\", \"genres\", \"release_date\", \"belongs_to_collection\", \"popularity\")\n",
    "metadata_movies_filtered = metadata_movies_start.filter(metadata_movies_start.id.isNotNull()).filter(metadata_movies_start.release_date.isNotNull()).filter(metadata_movies_start.title.isNotNull()).filter(metadata_movies_start.original_language.isNotNull()).filter(metadata_movies_start.genres.isNotNull()).filter(metadata_movies_start.popularity.isNotNull())"
   ]
  },
  {
   "cell_type": "code",
   "execution_count": 368,
   "metadata": {},
   "outputs": [],
   "source": [
    "split_col = F.split(metadata_movies_filtered['belongs_to_collection'], ',')\n",
    "metadata_movies_filtered = metadata_movies_filtered.withColumn('name_collection_name', split_col.getItem(1))"
   ]
  },
  {
   "cell_type": "code",
   "execution_count": 369,
   "metadata": {
    "scrolled": false
   },
   "outputs": [],
   "source": [
    "metadata_movies_filtered = metadata_movies_filtered.select('id', 'title', 'original_language', 'genres', 'release_date', 'name_collection_name', 'popularity')"
   ]
  },
  {
   "cell_type": "code",
   "execution_count": 370,
   "metadata": {},
   "outputs": [],
   "source": [
    "split_col = F.split(metadata_movies_filtered['name_collection_name'], ':')\n",
    "metadata_movies_filtered = metadata_movies_filtered.withColumn('collection_name_with', split_col.getItem(1))"
   ]
  },
  {
   "cell_type": "code",
   "execution_count": 371,
   "metadata": {},
   "outputs": [],
   "source": [
    "split_col = F.split(metadata_movies_filtered['collection_name_with'], '\\'')\n",
    "metadata_movies_filtered = metadata_movies_filtered.withColumn('collection_name', split_col.getItem(1))"
   ]
  },
  {
   "cell_type": "code",
   "execution_count": 372,
   "metadata": {},
   "outputs": [],
   "source": [
    "metadata_movies_filtered = metadata_movies_filtered.select(\"id\", \"title\", \"original_language\", \"genres\", \"release_date\", \"collection_name\", \"popularity\")"
   ]
  },
  {
   "cell_type": "code",
   "execution_count": 377,
   "metadata": {},
   "outputs": [
    {
     "name": "stdout",
     "output_type": "stream",
     "text": [
      "+-----+--------------------+-----------------+--------------------+--------------------+--------------------+----------+\n",
      "|   id|               title|original_language|              genres|        release_date|     collection_name|popularity|\n",
      "+-----+--------------------+-----------------+--------------------+--------------------+--------------------+----------+\n",
      "|  862|           Toy Story|               en|[{'id': 16, 'name...|          1995-10-30|Toy Story Collection| 21.946943|\n",
      "| 8844|             Jumanji|               en|[{'id': 12, 'name...|          1995-12-15|                null| 17.015539|\n",
      "|15602|    Grumpier Old Men|               en|[{'id': 10749, 'n...|          1995-12-22|Grumpy Old Men Co...|   11.7129|\n",
      "|31357|[{'iso_639_1': 'e...|               en|[{'id': 35, 'name...|/16XOMpEaLWkrcPqS...|                null|    Bernie|\n",
      "|11862|Father of the Bri...|               en|[{'id': 35, 'name...|          1995-02-10|Father of the Bri...|  8.387519|\n",
      "|  949|                Heat|               en|[{'id': 28, 'name...|          1995-12-15|                null| 17.924927|\n",
      "|11860|             Sabrina|               en|[{'id': 35, 'name...|          1995-12-15|                null|  6.677277|\n",
      "|45325|        Tom and Huck|               en|[{'id': 28, 'name...|          1995-12-22|                null|  2.561161|\n",
      "| 9091|        Sudden Death|               en|[{'id': 28, 'name...|          1995-12-22|                null|   5.23158|\n",
      "|  710|           GoldenEye|               en|[{'id': 12, 'name...|          1995-11-16|James Bond Collec...| 14.686036|\n",
      "| 9087|The American Pres...|               en|[{'id': 35, 'name...|          1995-11-17|                null|  6.318445|\n",
      "|12110|Dracula: Dead and...|               en|[{'id': 35, 'name...|          1995-12-22|                null|  5.430331|\n",
      "|21032|               Balto|               en|[{'id': 10751, 'n...|          1995-12-22|    Balto Collection| 12.140733|\n",
      "|10858|               Nixon|               en|[{'id': 36, 'name...|          1995-12-22|                null|     5.092|\n",
      "| 1408|    Cutthroat Island|               en|[{'id': 28, 'name...|          1995-12-22|                null|  7.284477|\n",
      "|  524|              Casino|               en|[{'id': 18, 'name...|          1995-11-22|                null| 10.137389|\n",
      "| 4584|Sense and Sensibi...|               en|[{'id': 18, 'name...|          1995-12-13|                null| 10.673167|\n",
      "|    5|          Four Rooms|               en|[{'id': 80, 'name...|          1995-12-09|                null|  9.026586|\n",
      "| 9273|Ace Ventura: When...|               en|[{'id': 80, 'name...|          1995-11-10|Ace Ventura Colle...|  8.205448|\n",
      "|11517|         Money Train|               en|[{'id': 28, 'name...|          1995-11-21|                null|  7.337906|\n",
      "+-----+--------------------+-----------------+--------------------+--------------------+--------------------+----------+\n",
      "only showing top 20 rows\n",
      "\n"
     ]
    }
   ],
   "source": [
    "metadata_movies_filtered.show()"
   ]
  },
  {
   "cell_type": "code",
   "execution_count": 373,
   "metadata": {},
   "outputs": [],
   "source": [
    "# # metadata_movies_filtered = metadata_movies_filtered.withColumn('Test', lit(\"test\"))\n",
    "\n",
    "# split_genres = F.split(metadata_movies_filtered['genres'], '},')\n",
    "\n",
    "# metadata_movies_filtered = metadata_movies_filtered.withColumn(\"genresize\", F.size(split_genres))\n",
    "\n"
   ]
  },
  {
   "cell_type": "code",
   "execution_count": 374,
   "metadata": {},
   "outputs": [],
   "source": [
    "# result = metadata_movies_filtered.filter(metadata_movies_filtered.genresize > 0).collect()\n",
    "\n",
    "# print(result[1047])\n",
    "\n",
    "# nr = 0\n",
    "# for r in range(len(result)):\n",
    "#     genres = \"\"\n",
    "#     genres_complete = result[r][3]\n",
    "    \n",
    "#     if genres_complete != \"[]\": \n",
    "#         genres_split = genres_complete.split('},')\n",
    "\n",
    "\n",
    "#         i = 0\n",
    "#         for genre in genres_split:\n",
    "#             print(nr)\n",
    "#             genre_name = genre.split(',')[1].split(':')[1].split('\\'')[1]\n",
    "            \n",
    "            \n",
    "#             print(genre_name)\n",
    "\n",
    "#             genres += genre_name\n",
    "#             if i < len(genres_split)-1:\n",
    "#                 genres += \",\"\n",
    "#             i += 1\n",
    "#     nr += 1\n",
    "        \n"
   ]
  },
  {
   "cell_type": "code",
   "execution_count": 375,
   "metadata": {},
   "outputs": [],
   "source": [
    "# metadata_movies_filtered.select('genresize').show()"
   ]
  },
  {
   "cell_type": "code",
   "execution_count": 376,
   "metadata": {},
   "outputs": [
    {
     "name": "stdout",
     "output_type": "stream",
     "text": [
      "44698\n",
      "402\n",
      "784\n",
      "333165\n",
      "[{'id': 18, 'name': 'Drama'}, {'id': 27, 'name': 'Horror'}]\n",
      "609\n",
      "11837\n",
      "34584\n",
      "6435\n",
      "9489\n",
      "[{'id': 35, 'name': 'Comedy'}, {'id': 12, 'name': 'Adventure'}, {'id': 10749, 'name': 'Romance'}]\n",
      "[{'id': 10402, 'name': 'Music'}, {'id': 35, 'name': 'Comedy'}]\n",
      "113279\n",
      "120077\n",
      "[{'id': 35, 'name': 'Comedy'}]\n",
      "18835\n",
      "15239\n",
      "4958\n",
      "12509\n",
      "121091\n",
      "19382\n",
      "4105\n",
      "17362\n",
      "26535\n",
      "43774\n",
      "11938\n",
      "27224\n",
      "9506\n",
      "[{'id': 10402, 'name': 'Music'}]\n",
      "12800\n",
      "32430\n",
      "4176\n",
      "18499\n",
      "10589\n",
      "36648\n",
      "[{'id': 99, 'name': 'Documentary'}, {'id': 10751, 'name': 'Family'}, {'id': 10402, 'name': 'Music'}]\n",
      "43752\n",
      "35861\n",
      "48448\n",
      "30330\n",
      "29512\n",
      "11451\n",
      "11283\n",
      "62719\n",
      "14012\n",
      "43512\n",
      "14171\n",
      "10075\n",
      "10832\n",
      "1979\n",
      "11152\n",
      "27509\n",
      "161006\n",
      "22640\n",
      "43876\n",
      "39931\n",
      "38542\n",
      "33494\n",
      "43943\n",
      "26663\n",
      "104720\n",
      "293946\n",
      "45132\n",
      "36784\n",
      "101520\n",
      "71771\n",
      "84327\n",
      "37661\n",
      "191600\n",
      "42399\n",
      "98631\n",
      "270002\n",
      "121986\n",
      "157862\n",
      "219674\n",
      "97790\n",
      "101299\n",
      "60140\n",
      "122435\n",
      "35074\n",
      "37193\n",
      "57573\n",
      "253899\n",
      "272165\n",
      "128598\n",
      "28712\n",
      "42343\n",
      "1419\n",
      "79361\n",
      "6172\n",
      "308504\n",
      "122126\n",
      "10094\n",
      "341201\n",
      "266294\n",
      "[{'id': 35, 'name': 'Comedy'}, {'id': 27, 'name': 'Horror'}]\n",
      "339984\n",
      "48339\n",
      "294221\n",
      "384573\n",
      "62439\n",
      "108523\n",
      "25606\n",
      "301372\n",
      "24564\n"
     ]
    },
    {
     "ename": "IndexError",
     "evalue": "list index out of range",
     "output_type": "error",
     "traceback": [
      "\u001b[0;31m---------------------------------------------------------------------------\u001b[0m",
      "\u001b[0;31mIndexError\u001b[0m                                Traceback (most recent call last)",
      "\u001b[0;32m<ipython-input-376-97316456fec3>\u001b[0m in \u001b[0;36m<module>\u001b[0;34m\u001b[0m\n\u001b[1;32m      8\u001b[0m \u001b[0;34m\u001b[0m\u001b[0m\n\u001b[1;32m      9\u001b[0m \u001b[0;32mfor\u001b[0m \u001b[0mx\u001b[0m \u001b[0;32min\u001b[0m \u001b[0mrange\u001b[0m\u001b[0;34m(\u001b[0m\u001b[0mlen\u001b[0m\u001b[0;34m(\u001b[0m\u001b[0mmetadata_dict\u001b[0m\u001b[0;34m)\u001b[0m\u001b[0;34m)\u001b[0m\u001b[0;34m:\u001b[0m\u001b[0;34m\u001b[0m\u001b[0m\n\u001b[0;32m---> 10\u001b[0;31m     \u001b[0;32mif\u001b[0m \u001b[0;32mnot\u001b[0m \u001b[0mre\u001b[0m\u001b[0;34m.\u001b[0m\u001b[0msearch\u001b[0m\u001b[0;34m(\u001b[0m\u001b[0mpattern\u001b[0m\u001b[0;34m,\u001b[0m \u001b[0mmetadata_dict\u001b[0m\u001b[0;34m[\u001b[0m\u001b[0mx\u001b[0m\u001b[0;34m]\u001b[0m\u001b[0;34m[\u001b[0m\u001b[0;36m0\u001b[0m\u001b[0;34m]\u001b[0m\u001b[0;34m)\u001b[0m\u001b[0;34m:\u001b[0m\u001b[0;34m\u001b[0m\u001b[0m\n\u001b[0m\u001b[1;32m     11\u001b[0m         \u001b[0;32mdel\u001b[0m \u001b[0mmetadata_dict\u001b[0m\u001b[0;34m[\u001b[0m\u001b[0mx\u001b[0m\u001b[0;34m]\u001b[0m\u001b[0;34m\u001b[0m\u001b[0m\n\u001b[1;32m     12\u001b[0m         \u001b[0mprint\u001b[0m\u001b[0;34m(\u001b[0m\u001b[0mmetadata_dict\u001b[0m\u001b[0;34m[\u001b[0m\u001b[0mx\u001b[0m\u001b[0;34m]\u001b[0m\u001b[0;34m[\u001b[0m\u001b[0;36m0\u001b[0m\u001b[0;34m]\u001b[0m\u001b[0;34m)\u001b[0m\u001b[0;34m\u001b[0m\u001b[0m\n",
      "\u001b[0;31mIndexError\u001b[0m: list index out of range"
     ]
    }
   ],
   "source": [
    "# metadata_schema = metadata_movies_filtered.schema\n",
    "# # metadata_test = spark.createDataFrame(metadata_dict, metadata_movies_filtered.schema)\n",
    "\n",
    "# metadata_dict = metadata_movies_filtered.collect()\n",
    "# pattern = \"^[0-9]+$\"\n",
    "\n",
    "# print(len(metadata_dict))\n",
    "\n",
    "# for x in range(len(metadata_dict)):\n",
    "#     if not re.search(pattern, metadata_dict[x][0]):\n",
    "#         del metadata_dict[x]\n",
    "#         print(metadata_dict[x][0])\n",
    "\n",
    "# # print(len(metadata_dict))"
   ]
  },
  {
   "cell_type": "code",
   "execution_count": null,
   "metadata": {},
   "outputs": [],
   "source": []
  }
 ],
 "metadata": {
  "kernelspec": {
   "display_name": "Python 3",
   "language": "python",
   "name": "python3"
  },
  "language_info": {
   "codemirror_mode": {
    "name": "ipython",
    "version": 3
   },
   "file_extension": ".py",
   "mimetype": "text/x-python",
   "name": "python",
   "nbconvert_exporter": "python",
   "pygments_lexer": "ipython3",
   "version": "3.6.1"
  }
 },
 "nbformat": 4,
 "nbformat_minor": 2
}
