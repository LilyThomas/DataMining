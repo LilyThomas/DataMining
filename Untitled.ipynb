{
 "cells": [
  {
   "cell_type": "code",
   "execution_count": 4,
   "metadata": {},
   "outputs": [],
   "source": [
    "import csv\n",
    "import re"
   ]
  },
  {
   "cell_type": "code",
   "execution_count": 80,
   "metadata": {
    "scrolled": true
   },
   "outputs": [
    {
     "name": "stdout",
     "output_type": "stream",
     "text": [
      "862\n",
      "Toy Story\n",
      "{'id': 10194, 'name': 'Toy Story Collection', 'poster_path': '/7G9915LfUQ2lVfwMEEhDsn3kT4B.jpg', 'backdrop_path': '/9FBwqcd9IRruEDUrTdcaafOMKUq.jpg'}\n"
     ]
    }
   ],
   "source": [
    "with open('/Users/lily/Documents/school/Data Mining/the-movies-dataset/movies_metadata.csv') as metadata:\n",
    "    read_metadata = csv.reader(metadata, delimiter=',')\n",
    "    next(read_metadata)\n",
    "    \n",
    "    line = next(read_metadata)\n",
    "    \n",
    "    id = line[5]\n",
    "    title = line[20]\n",
    "    collection_array = line[1].split(',')\n",
    "    \n",
    "    collection_dict = {}\n",
    "    \n",
    "    for item in collection_array:\n",
    "        \n",
    "    \n",
    "    print(id)\n",
    "    print(title)\n",
    "    print(collection)\n",
    "    \n",
    "    \n",
    "#     for row in read_metadata:\n",
    "#         id = row[5]\n",
    "#         title = row[20]\n",
    "#         collection = row[1]\n",
    "        \n",
    "        \n",
    "#         print(id + \"\\t\" + title + \"\\t\")"
   ]
  },
  {
   "cell_type": "code",
   "execution_count": null,
   "metadata": {},
   "outputs": [],
   "source": []
  }
 ],
 "metadata": {
  "kernelspec": {
   "display_name": "Python 3",
   "language": "python",
   "name": "python3"
  },
  "language_info": {
   "codemirror_mode": {
    "name": "ipython",
    "version": 3
   },
   "file_extension": ".py",
   "mimetype": "text/x-python",
   "name": "python",
   "nbconvert_exporter": "python",
   "pygments_lexer": "ipython3",
   "version": "3.6.1"
  }
 },
 "nbformat": 4,
 "nbformat_minor": 2
}
