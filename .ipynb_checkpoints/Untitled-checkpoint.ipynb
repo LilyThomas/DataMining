{
 "cells": [
  {
   "cell_type": "code",
   "execution_count": 1,
   "metadata": {},
   "outputs": [],
   "source": [
    "import csv\n",
    "import findspark\n",
    "findspark.init()\n",
    "import pyspark # only run after findspark.init()\n",
    "from pyspark.sql import SparkSession\n",
    "spark = SparkSession.builder.getOrCreate()\n",
    "import pyspark.sql.functions as F\n",
    "from pyspark.sql.functions import lit\n",
    "from pyspark.sql import *\n",
    "from pyspark.sql.types import *\n",
    "import re"
   ]
  },
  {
   "cell_type": "code",
   "execution_count": 2,
   "metadata": {},
   "outputs": [],
   "source": [
    "metadata = spark.read.format(\"csv\").option(\"header\", \"true\").load(\"Movies/movies_metadata.csv\")\n",
    "credits = spark.read.format(\"csv\").option(\"header\", \"true\").load(\"Movies/credits.csv\")"
   ]
  },
  {
   "cell_type": "code",
   "execution_count": 3,
   "metadata": {},
   "outputs": [],
   "source": [
    "metadata_movies_start = metadata.select(\"id\", \"title\", \"original_language\", \"genres\", \"release_date\", \"belongs_to_collection\", \"popularity\")\n",
    "metadata_movies_filtered = metadata_movies_start.filter(metadata_movies_start.id.isNotNull()).filter(metadata_movies_start.release_date.isNotNull()).filter(metadata_movies_start.title.isNotNull()).filter(metadata_movies_start.original_language.isNotNull()).filter(metadata_movies_start.genres.isNotNull()).filter(metadata_movies_start.popularity.isNotNull())"
   ]
  },
  {
   "cell_type": "code",
   "execution_count": 4,
   "metadata": {},
   "outputs": [],
   "source": [
    "split_col = F.split(metadata_movies_filtered['belongs_to_collection'], ',')\n",
    "metadata_movies_filtered = metadata_movies_filtered.withColumn('name_collection_name', split_col.getItem(1))"
   ]
  },
  {
   "cell_type": "code",
   "execution_count": 5,
   "metadata": {
    "scrolled": false
   },
   "outputs": [],
   "source": [
    "metadata_movies_filtered = metadata_movies_filtered.select('id', 'title', 'original_language', 'genres', 'release_date', 'name_collection_name', 'popularity')"
   ]
  },
  {
   "cell_type": "code",
   "execution_count": 6,
   "metadata": {},
   "outputs": [],
   "source": [
    "split_col = F.split(metadata_movies_filtered['name_collection_name'], ':')\n",
    "metadata_movies_filtered = metadata_movies_filtered.withColumn('collection_name_with', split_col.getItem(1))"
   ]
  },
  {
   "cell_type": "code",
   "execution_count": 7,
   "metadata": {},
   "outputs": [],
   "source": [
    "split_col = F.split(metadata_movies_filtered['collection_name_with'], '\\'')\n",
    "metadata_movies_filtered = metadata_movies_filtered.withColumn('collection_name', split_col.getItem(1))"
   ]
  },
  {
   "cell_type": "code",
   "execution_count": 8,
   "metadata": {},
   "outputs": [],
   "source": [
    "metadata_movies_filtered = metadata_movies_filtered.select(\"id\", \"title\", \"original_language\", \"genres\", \"release_date\", \"collection_name\", \"popularity\")"
   ]
  },
  {
   "cell_type": "code",
   "execution_count": 9,
   "metadata": {},
   "outputs": [
    {
     "name": "stdout",
     "output_type": "stream",
     "text": [
      "+-----+--------------------+-----------------+--------------------+--------------------+--------------------+----------+\n",
      "|   id|               title|original_language|              genres|        release_date|     collection_name|popularity|\n",
      "+-----+--------------------+-----------------+--------------------+--------------------+--------------------+----------+\n",
      "|  862|           Toy Story|               en|[{'id': 16, 'name...|          1995-10-30|Toy Story Collection| 21.946943|\n",
      "| 8844|             Jumanji|               en|[{'id': 12, 'name...|          1995-12-15|                null| 17.015539|\n",
      "|15602|    Grumpier Old Men|               en|[{'id': 10749, 'n...|          1995-12-22|Grumpy Old Men Co...|   11.7129|\n",
      "|31357|[{'iso_639_1': 'e...|               en|[{'id': 35, 'name...|/16XOMpEaLWkrcPqS...|                null|    Bernie|\n",
      "|11862|Father of the Bri...|               en|[{'id': 35, 'name...|          1995-02-10|Father of the Bri...|  8.387519|\n",
      "|  949|                Heat|               en|[{'id': 28, 'name...|          1995-12-15|                null| 17.924927|\n",
      "|11860|             Sabrina|               en|[{'id': 35, 'name...|          1995-12-15|                null|  6.677277|\n",
      "|45325|        Tom and Huck|               en|[{'id': 28, 'name...|          1995-12-22|                null|  2.561161|\n",
      "| 9091|        Sudden Death|               en|[{'id': 28, 'name...|          1995-12-22|                null|   5.23158|\n",
      "|  710|           GoldenEye|               en|[{'id': 12, 'name...|          1995-11-16|James Bond Collec...| 14.686036|\n",
      "| 9087|The American Pres...|               en|[{'id': 35, 'name...|          1995-11-17|                null|  6.318445|\n",
      "|12110|Dracula: Dead and...|               en|[{'id': 35, 'name...|          1995-12-22|                null|  5.430331|\n",
      "|21032|               Balto|               en|[{'id': 10751, 'n...|          1995-12-22|    Balto Collection| 12.140733|\n",
      "|10858|               Nixon|               en|[{'id': 36, 'name...|          1995-12-22|                null|     5.092|\n",
      "| 1408|    Cutthroat Island|               en|[{'id': 28, 'name...|          1995-12-22|                null|  7.284477|\n",
      "|  524|              Casino|               en|[{'id': 18, 'name...|          1995-11-22|                null| 10.137389|\n",
      "| 4584|Sense and Sensibi...|               en|[{'id': 18, 'name...|          1995-12-13|                null| 10.673167|\n",
      "|    5|          Four Rooms|               en|[{'id': 80, 'name...|          1995-12-09|                null|  9.026586|\n",
      "| 9273|Ace Ventura: When...|               en|[{'id': 80, 'name...|          1995-11-10|Ace Ventura Colle...|  8.205448|\n",
      "|11517|         Money Train|               en|[{'id': 28, 'name...|          1995-11-21|                null|  7.337906|\n",
      "+-----+--------------------+-----------------+--------------------+--------------------+--------------------+----------+\n",
      "only showing top 20 rows\n",
      "\n"
     ]
    }
   ],
   "source": [
    "metadata_movies_filtered.show()"
   ]
  },
  {
   "cell_type": "code",
   "execution_count": 20,
   "metadata": {},
   "outputs": [],
   "source": [
    "metadata_movies_titlefilter=metadata_movies_filtered.filter(F.col('title').rlike('Sabrina'))"
   ]
  },
  {
   "cell_type": "code",
   "execution_count": 21,
   "metadata": {},
   "outputs": [
    {
     "name": "stdout",
     "output_type": "stream",
     "text": [
      "+------+--------------------+-----------------+--------------------+--------------------+--------------------+----------+\n",
      "|    id|               title|original_language|              genres|        release_date|     collection_name|popularity|\n",
      "+------+--------------------+-----------------+--------------------+--------------------+--------------------+----------+\n",
      "| 11860|             Sabrina|               en|[{'id': 35, 'name...|          1995-12-15|                null|  6.677277|\n",
      "|  9598|                Babe|               en|[{'id': 14, 'name...|          1995-07-18|     Babe Collection| 14.404764|\n",
      "|124057|Kids of the Round...|               en|                  []|          1997-07-08|                null|  0.307075|\n",
      "| 48750|      Les Miserables|               fr|[{'id': 18, 'name...|          1995-03-22|                null|  1.479446|\n",
      "|  2045|       Unforgettable|               en|[{'id': 18, 'name...|          1996-02-23|                null|  2.464425|\n",
      "| 37141|      The Babysitter|               en|[{'id': 18, 'name...|          1995-10-17|                null|  2.761837|\n",
      "| 48287|The Baby-Sitters ...|               en|[{'id': 35, 'name...|          1995-08-18|                null|   2.15805|\n",
      "| 26391|           Cabin Boy|               en|[{'id': 35, 'name...|          1994-01-07|                null|  1.679042|\n",
      "| 37345|    Princess Caraboo|               en|[{'id': 35, 'name...|          1994-09-16|                null|  1.943323|\n",
      "| 10988|          Diabolique|               en|[{'id': 18, 'name...|          1996-03-22|                null|  4.530079|\n",
      "|188589|           Babyfever|               en|                  []|          1994-05-04|                null|  0.001687|\n",
      "| 81949|An Unforgettable ...|               ro|[{'id': 18, 'name...|          1994-05-15|                null|  0.826372|\n",
      "|   289|          Casablanca|               en|[{'id': 18, 'name...|          1942-11-26|                null| 13.916101|\n",
      "|   900|    Bringing Up Baby|               en|[{'id': 35, 'name...|          1938-02-18|                null|   6.60577|\n",
      "| 15947|The Three Caballeros|               en|[{'id': 16, 'name...|          1944-07-21|Caballeros Collec...|  8.702472|\n",
      "|   947|  Lawrence of Arabia|               en|[{'id': 12, 'name...|          1962-12-10|                null| 10.893332|\n",
      "| 10644|The Unbearable Li...|               en|[{'id': 35, 'name...|          1988-02-05|                null|  6.815147|\n",
      "| 36040|           Walkabout|               en|[{'id': 12, 'name...|          1971-07-01|                null| 10.177086|\n",
      "|  2892|          Angel Baby|               en|[{'id': 18, 'name...|          1995-09-09|                null|  0.775616|\n",
      "|   816|If he were any co...|               en|[{'id': 878, 'nam...|[{'iso_3166_1': '...|Austin Powers Col...| 11.749159|\n",
      "+------+--------------------+-----------------+--------------------+--------------------+--------------------+----------+\n",
      "only showing top 20 rows\n",
      "\n"
     ]
    }
   ],
   "source": [
    "metadata_movies_titlefilter.show()"
   ]
  },
  {
   "cell_type": "code",
   "execution_count": 10,
   "metadata": {},
   "outputs": [],
   "source": [
    "# # metadata_movies_filtered = metadata_movies_filtered.withColumn('Test', lit(\"test\"))\n",
    "\n",
    "# split_genres = F.split(metadata_movies_filtered['genres'], '},')\n",
    "\n",
    "# metadata_movies_filtered = metadata_movies_filtered.withColumn(\"genresize\", F.size(split_genres))\n",
    "\n"
   ]
  },
  {
   "cell_type": "code",
   "execution_count": 11,
   "metadata": {},
   "outputs": [],
   "source": [
    "# result = metadata_movies_filtered.filter(metadata_movies_filtered.genresize > 0).collect()\n",
    "\n",
    "# print(result[1047])\n",
    "\n",
    "# nr = 0\n",
    "# for r in range(len(result)):\n",
    "#     genres = \"\"\n",
    "#     genres_complete = result[r][3]\n",
    "    \n",
    "#     if genres_complete != \"[]\": \n",
    "#         genres_split = genres_complete.split('},')\n",
    "\n",
    "\n",
    "#         i = 0\n",
    "#         for genre in genres_split:\n",
    "#             print(nr)\n",
    "#             genre_name = genre.split(',')[1].split(':')[1].split('\\'')[1]\n",
    "            \n",
    "            \n",
    "#             print(genre_name)\n",
    "\n",
    "#             genres += genre_name\n",
    "#             if i < len(genres_split)-1:\n",
    "#                 genres += \",\"\n",
    "#             i += 1\n",
    "#     nr += 1\n",
    "        \n"
   ]
  },
  {
   "cell_type": "code",
   "execution_count": 12,
   "metadata": {},
   "outputs": [],
   "source": [
    "# metadata_movies_filtered.select('genresize').show()"
   ]
  },
  {
   "cell_type": "code",
   "execution_count": 13,
   "metadata": {},
   "outputs": [],
   "source": [
    "# metadata_schema = metadata_movies_filtered.schema\n",
    "# # metadata_test = spark.createDataFrame(metadata_dict, metadata_movies_filtered.schema)\n",
    "\n",
    "# metadata_dict = metadata_movies_filtered.collect()\n",
    "# pattern = \"^[0-9]+$\"\n",
    "\n",
    "# print(len(metadata_dict))\n",
    "\n",
    "# for x in range(len(metadata_dict)):\n",
    "#     if not re.search(pattern, metadata_dict[x][0]):\n",
    "#         del metadata_dict[x]\n",
    "#         print(metadata_dict[x][0])\n",
    "\n",
    "# # print(len(metadata_dict))"
   ]
  },
  {
   "cell_type": "code",
   "execution_count": null,
   "metadata": {},
   "outputs": [],
   "source": []
  }
 ],
 "metadata": {
  "kernelspec": {
   "display_name": "Python 3",
   "language": "python",
   "name": "python3"
  },
  "language_info": {
   "codemirror_mode": {
    "name": "ipython",
    "version": 3
   },
   "file_extension": ".py",
   "mimetype": "text/x-python",
   "name": "python",
   "nbconvert_exporter": "python",
   "pygments_lexer": "ipython3",
   "version": "3.7.2"
  }
 },
 "nbformat": 4,
 "nbformat_minor": 2
}
