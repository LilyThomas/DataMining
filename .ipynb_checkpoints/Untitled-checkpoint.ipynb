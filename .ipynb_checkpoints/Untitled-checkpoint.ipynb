{
 "cells": [
  {
   "cell_type": "code",
   "execution_count": 1,
   "metadata": {},
   "outputs": [],
   "source": [
    "import csv\n",
    "import re"
   ]
  },
  {
   "cell_type": "code",
   "execution_count": 2,
   "metadata": {},
   "outputs": [],
   "source": [
    "metadata = spark.read.format(\"csv\").option(\"header\", \"true\").load(\"/Users/lily/Documents/school/Data Mining/the-movies-dataset/movies_metadata.csv\")"
   ]
  },
  {
   "cell_type": "code",
   "execution_count": 33,
   "metadata": {},
   "outputs": [
    {
     "data": {
      "text/plain": [
       "DataFrame[adult: string, belongs_to_collection: string, budget: string, genres: string, homepage: string, id: string, imdb_id: string, original_language: string, original_title: string, overview: string, popularity: string, poster_path: string, production_companies: string, production_countries: string, release_date: string, revenue: string, runtime: string, spoken_languages: string, status: string, tagline: string, title: string, video: string, vote_average: string, vote_count: string]"
      ]
     },
     "execution_count": 33,
     "metadata": {},
     "output_type": "execute_result"
    },
    {
     "data": {
      "text/plain": [
       "DataFrame[adult: string, belongs_to_collection: string, budget: string, genres: string, homepage: string, id: string, imdb_id: string, original_language: string, original_title: string, overview: string, popularity: string, poster_path: string, production_companies: string, production_countries: string, release_date: string, revenue: string, runtime: string, spoken_languages: string, status: string, tagline: string, title: string, video: string, vote_average: string, vote_count: string]"
      ]
     },
     "execution_count": 33,
     "metadata": {},
     "output_type": "execute_result"
    }
   ],
   "source": [
    "metadata"
   ]
  },
  {
   "cell_type": "code",
   "execution_count": 34,
   "metadata": {},
   "outputs": [],
   "source": [
    "metadata_movies = metadata.select(\"id\", \"title\", \"original_language\", \"genres\", \"release_date\", \"belongs_to_collection\", \"popularity\")"
   ]
  },
  {
   "cell_type": "code",
   "execution_count": 35,
   "metadata": {
    "scrolled": true
   },
   "outputs": [
    {
     "name": "stdout",
     "output_type": "stream",
     "text": [
      "+-----+--------------------+-----------------+--------------------+--------------------+---------------------+----------+\n",
      "|   id|               title|original_language|              genres|        release_date|belongs_to_collection|popularity|\n",
      "+-----+--------------------+-----------------+--------------------+--------------------+---------------------+----------+\n",
      "|  862|           Toy Story|               en|[{'id': 16, 'name...|          1995-10-30| {'id': 10194, 'na...| 21.946943|\n",
      "| 8844|             Jumanji|               en|[{'id': 12, 'name...|          1995-12-15|                 null| 17.015539|\n",
      "|15602|    Grumpier Old Men|               en|[{'id': 10749, 'n...|          1995-12-22| {'id': 119050, 'n...|   11.7129|\n",
      "|31357|[{'iso_639_1': 'e...|               en|[{'id': 35, 'name...|/16XOMpEaLWkrcPqS...|                 null|    Bernie|\n",
      "|11862|Father of the Bri...|               en|[{'id': 35, 'name...|          1995-02-10| {'id': 96871, 'na...|  8.387519|\n",
      "|  949|                Heat|               en|[{'id': 28, 'name...|          1995-12-15|                 null| 17.924927|\n",
      "|11860|             Sabrina|               en|[{'id': 35, 'name...|          1995-12-15|                 null|  6.677277|\n",
      "|45325|        Tom and Huck|               en|[{'id': 28, 'name...|          1995-12-22|                 null|  2.561161|\n",
      "| 9091|        Sudden Death|               en|[{'id': 28, 'name...|          1995-12-22|                 null|   5.23158|\n",
      "|  710|           GoldenEye|               en|[{'id': 12, 'name...|          1995-11-16| {'id': 645, 'name...| 14.686036|\n",
      "| 9087|The American Pres...|               en|[{'id': 35, 'name...|          1995-11-17|                 null|  6.318445|\n",
      "|12110|Dracula: Dead and...|               en|[{'id': 35, 'name...|          1995-12-22|                 null|  5.430331|\n",
      "|21032|               Balto|               en|[{'id': 10751, 'n...|          1995-12-22| {'id': 117693, 'n...| 12.140733|\n",
      "|10858|               Nixon|               en|[{'id': 36, 'name...|          1995-12-22|                 null|     5.092|\n",
      "| 1408|    Cutthroat Island|               en|[{'id': 28, 'name...|          1995-12-22|                 null|  7.284477|\n",
      "|  524|              Casino|               en|[{'id': 18, 'name...|          1995-11-22|                 null| 10.137389|\n",
      "| 4584|Sense and Sensibi...|               en|[{'id': 18, 'name...|          1995-12-13|                 null| 10.673167|\n",
      "|    5|          Four Rooms|               en|[{'id': 80, 'name...|          1995-12-09|                 null|  9.026586|\n",
      "| 9273|Ace Ventura: When...|               en|[{'id': 80, 'name...|          1995-11-10| {'id': 3167, 'nam...|  8.205448|\n",
      "|11517|         Money Train|               en|[{'id': 28, 'name...|          1995-11-21|                 null|  7.337906|\n",
      "+-----+--------------------+-----------------+--------------------+--------------------+---------------------+----------+\n",
      "only showing top 20 rows\n",
      "\n",
      "+-----+--------------------+-----------------+--------------------+--------------------+---------------------+----------+\n",
      "|   id|               title|original_language|              genres|        release_date|belongs_to_collection|popularity|\n",
      "+-----+--------------------+-----------------+--------------------+--------------------+---------------------+----------+\n",
      "|  862|           Toy Story|               en|[{'id': 16, 'name...|          1995-10-30| {'id': 10194, 'na...| 21.946943|\n",
      "| 8844|             Jumanji|               en|[{'id': 12, 'name...|          1995-12-15|                 null| 17.015539|\n",
      "|15602|    Grumpier Old Men|               en|[{'id': 10749, 'n...|          1995-12-22| {'id': 119050, 'n...|   11.7129|\n",
      "|31357|[{'iso_639_1': 'e...|               en|[{'id': 35, 'name...|/16XOMpEaLWkrcPqS...|                 null|    Bernie|\n",
      "|11862|Father of the Bri...|               en|[{'id': 35, 'name...|          1995-02-10| {'id': 96871, 'na...|  8.387519|\n",
      "|  949|                Heat|               en|[{'id': 28, 'name...|          1995-12-15|                 null| 17.924927|\n",
      "|11860|             Sabrina|               en|[{'id': 35, 'name...|          1995-12-15|                 null|  6.677277|\n",
      "|45325|        Tom and Huck|               en|[{'id': 28, 'name...|          1995-12-22|                 null|  2.561161|\n",
      "| 9091|        Sudden Death|               en|[{'id': 28, 'name...|          1995-12-22|                 null|   5.23158|\n",
      "|  710|           GoldenEye|               en|[{'id': 12, 'name...|          1995-11-16| {'id': 645, 'name...| 14.686036|\n",
      "| 9087|The American Pres...|               en|[{'id': 35, 'name...|          1995-11-17|                 null|  6.318445|\n",
      "|12110|Dracula: Dead and...|               en|[{'id': 35, 'name...|          1995-12-22|                 null|  5.430331|\n",
      "|21032|               Balto|               en|[{'id': 10751, 'n...|          1995-12-22| {'id': 117693, 'n...| 12.140733|\n",
      "|10858|               Nixon|               en|[{'id': 36, 'name...|          1995-12-22|                 null|     5.092|\n",
      "| 1408|    Cutthroat Island|               en|[{'id': 28, 'name...|          1995-12-22|                 null|  7.284477|\n",
      "|  524|              Casino|               en|[{'id': 18, 'name...|          1995-11-22|                 null| 10.137389|\n",
      "| 4584|Sense and Sensibi...|               en|[{'id': 18, 'name...|          1995-12-13|                 null| 10.673167|\n",
      "|    5|          Four Rooms|               en|[{'id': 80, 'name...|          1995-12-09|                 null|  9.026586|\n",
      "| 9273|Ace Ventura: When...|               en|[{'id': 80, 'name...|          1995-11-10| {'id': 3167, 'nam...|  8.205448|\n",
      "|11517|         Money Train|               en|[{'id': 28, 'name...|          1995-11-21|                 null|  7.337906|\n",
      "+-----+--------------------+-----------------+--------------------+--------------------+---------------------+----------+\n",
      "only showing top 20 rows\n",
      "\n"
     ]
    }
   ],
   "source": [
    "metadata_movies.show()"
   ]
  },
  {
   "cell_type": "code",
   "execution_count": 36,
   "metadata": {},
   "outputs": [
    {
     "data": {
      "text/plain": [
       "45572"
      ]
     },
     "execution_count": 36,
     "metadata": {},
     "output_type": "execute_result"
    },
    {
     "data": {
      "text/plain": [
       "45572"
      ]
     },
     "execution_count": 36,
     "metadata": {},
     "output_type": "execute_result"
    }
   ],
   "source": [
    "metadata_movies.count()"
   ]
  },
  {
   "cell_type": "code",
   "execution_count": 42,
   "metadata": {},
   "outputs": [
    {
     "ename": "AttributeError",
     "evalue": "'function' object has no attribute 'filter'",
     "output_type": "error",
     "traceback": [
      "\u001b[0;31m---------------------------------------------------------------------------\u001b[0m",
      "\u001b[0;31mAttributeError\u001b[0m                            Traceback (most recent call last)",
      "\u001b[0;32m<ipython-input-42-4cec2dead8bb>\u001b[0m in \u001b[0;36m<module>\u001b[0;34m\u001b[0m\n\u001b[0;32m----> 1\u001b[0;31m \u001b[0mmetadata_movies\u001b[0m\u001b[0;34m.\u001b[0m\u001b[0mfilter\u001b[0m\u001b[0;34m(\u001b[0m\u001b[0;34m\"release_date is null\"\u001b[0m\u001b[0;34m)\u001b[0m\u001b[0;34m.\u001b[0m\u001b[0mshow\u001b[0m\u001b[0;34m(\u001b[0m\u001b[0;34m)\u001b[0m\u001b[0;34m\u001b[0m\u001b[0m\n\u001b[0m",
      "\u001b[0;31mAttributeError\u001b[0m: 'function' object has no attribute 'filter'"
     ]
    },
    {
     "ename": "AttributeError",
     "evalue": "'function' object has no attribute 'filter'",
     "output_type": "error",
     "traceback": [
      "\u001b[0;31m---------------------------------------------------------------------------\u001b[0m",
      "\u001b[0;31mAttributeError\u001b[0m                            Traceback (most recent call last)",
      "\u001b[0;32m<ipython-input-42-4cec2dead8bb>\u001b[0m in \u001b[0;36m<module>\u001b[0;34m\u001b[0m\n\u001b[0;32m----> 1\u001b[0;31m \u001b[0mmetadata_movies\u001b[0m\u001b[0;34m.\u001b[0m\u001b[0mfilter\u001b[0m\u001b[0;34m(\u001b[0m\u001b[0;34m\"release_date is null\"\u001b[0m\u001b[0;34m)\u001b[0m\u001b[0;34m.\u001b[0m\u001b[0mshow\u001b[0m\u001b[0;34m(\u001b[0m\u001b[0;34m)\u001b[0m\u001b[0;34m\u001b[0m\u001b[0m\n\u001b[0m",
      "\u001b[0;31mAttributeError\u001b[0m: 'function' object has no attribute 'filter'"
     ]
    }
   ],
   "source": [
    "metadata_movies.filter(\"release_date is null\").show()"
   ]
  },
  {
   "cell_type": "code",
   "execution_count": null,
   "metadata": {},
   "outputs": [],
   "source": []
  },
  {
   "cell_type": "code",
   "execution_count": null,
   "metadata": {},
   "outputs": [],
   "source": []
  }
 ],
 "metadata": {
  "kernelspec": {
   "display_name": "Python 3",
   "language": "python",
   "name": "python3"
  },
  "language_info": {
   "codemirror_mode": {
    "name": "ipython",
    "version": 3
   },
   "file_extension": ".py",
   "mimetype": "text/x-python",
   "name": "python",
   "nbconvert_exporter": "python",
   "pygments_lexer": "ipython3",
   "version": "3.6.1"
  }
 },
 "nbformat": 4,
 "nbformat_minor": 2
}
