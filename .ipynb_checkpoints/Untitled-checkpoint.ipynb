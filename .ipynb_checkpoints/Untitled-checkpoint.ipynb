{
 "cells": [
  {
   "cell_type": "code",
   "execution_count": 26,
   "metadata": {},
   "outputs": [],
   "source": [
    "import csv\n",
    "import pyspark.sql.functions as F"
   ]
  },
  {
   "cell_type": "code",
   "execution_count": 27,
   "metadata": {},
   "outputs": [],
   "source": [
    "metadata = spark.read.format(\"csv\").option(\"header\", \"true\").load(\"/Users/lily/Documents/school/Data Mining/the-movies-dataset/movies_metadata.csv\")\n",
    "credits = spark.read.format(\"csv\").option(\"header\", \"true\").load(\"/Users/lily/Documents/school/Data Mining/the-movies-dataset/credits.csv\")"
   ]
  },
  {
   "cell_type": "code",
   "execution_count": 28,
   "metadata": {},
   "outputs": [],
   "source": [
    "metadata_movies_start = metadata.select(\"id\", \"title\", \"original_language\", \"genres\", \"release_date\", \"belongs_to_collection\", \"popularity\")\n",
    "metadata_movies_filtered = metadata_movies_start.filter(metadata_movies_start.release_date.isNotNull()).filter(metadata_movies_start.title.isNotNull()).filter(metadata_movies_start.original_language.isNotNull()).filter(metadata_movies_start.genres.isNotNull()).filter(metadata_movies_start.popularity.isNotNull())"
   ]
  },
  {
   "cell_type": "code",
   "execution_count": 29,
   "metadata": {},
   "outputs": [],
   "source": [
    "split_col = F.split(metadata_movies_filtered['belongs_to_collection'], ',')\n",
    "metadata_movies_filtered = metadata_movies_filtered.withColumn('name_collection_name', split_col.getItem(1))"
   ]
  },
  {
   "cell_type": "code",
   "execution_count": 30,
   "metadata": {
    "scrolled": false
   },
   "outputs": [],
   "source": [
    "metadata_movies_filtered = metadata_movies_filtered.select('id', 'title', 'original_language', 'genres', 'release_date', 'name_collection_name', 'popularity')"
   ]
  },
  {
   "cell_type": "code",
   "execution_count": 31,
   "metadata": {},
   "outputs": [],
   "source": [
    "split_col = F.split(metadata_movies_filtered['name_collection_name'], ':')\n",
    "metadata_movies_filtered = metadata_movies_filtered.withColumn('collection_name_with', split_col.getItem(1))"
   ]
  },
  {
   "cell_type": "code",
   "execution_count": 32,
   "metadata": {},
   "outputs": [],
   "source": [
    "split_col = F.split(metadata_movies_filtered['collection_name_with'], '\\'')\n",
    "metadata_movies_filtered = metadata_movies_filtered.withColumn('collection_name', split_col.getItem(1))"
   ]
  },
  {
   "cell_type": "code",
   "execution_count": 33,
   "metadata": {},
   "outputs": [],
   "source": [
    "metadata_movies_filtered = metadata_movies_filtered.select(\"id\", \"title\", \"original_language\", \"genres\", \"release_date\", \"collection_name\", \"popularity\")"
   ]
  },
  {
   "cell_type": "code",
   "execution_count": 34,
   "metadata": {},
   "outputs": [
    {
     "name": "stdout",
     "output_type": "stream",
     "text": [
      "+-----+--------------------+-----------------+--------------------+--------------------+--------------------+----------+\n",
      "|   id|               title|original_language|              genres|        release_date|     collection_name|popularity|\n",
      "+-----+--------------------+-----------------+--------------------+--------------------+--------------------+----------+\n",
      "|  862|           Toy Story|               en|[{'id': 16, 'name...|          1995-10-30|Toy Story Collection| 21.946943|\n",
      "| 8844|             Jumanji|               en|[{'id': 12, 'name...|          1995-12-15|                null| 17.015539|\n",
      "|15602|    Grumpier Old Men|               en|[{'id': 10749, 'n...|          1995-12-22|Grumpy Old Men Co...|   11.7129|\n",
      "|31357|[{'iso_639_1': 'e...|               en|[{'id': 35, 'name...|/16XOMpEaLWkrcPqS...|                null|    Bernie|\n",
      "|11862|Father of the Bri...|               en|[{'id': 35, 'name...|          1995-02-10|Father of the Bri...|  8.387519|\n",
      "|  949|                Heat|               en|[{'id': 28, 'name...|          1995-12-15|                null| 17.924927|\n",
      "|11860|             Sabrina|               en|[{'id': 35, 'name...|          1995-12-15|                null|  6.677277|\n",
      "|45325|        Tom and Huck|               en|[{'id': 28, 'name...|          1995-12-22|                null|  2.561161|\n",
      "| 9091|        Sudden Death|               en|[{'id': 28, 'name...|          1995-12-22|                null|   5.23158|\n",
      "|  710|           GoldenEye|               en|[{'id': 12, 'name...|          1995-11-16|James Bond Collec...| 14.686036|\n",
      "| 9087|The American Pres...|               en|[{'id': 35, 'name...|          1995-11-17|                null|  6.318445|\n",
      "|12110|Dracula: Dead and...|               en|[{'id': 35, 'name...|          1995-12-22|                null|  5.430331|\n",
      "|21032|               Balto|               en|[{'id': 10751, 'n...|          1995-12-22|    Balto Collection| 12.140733|\n",
      "|10858|               Nixon|               en|[{'id': 36, 'name...|          1995-12-22|                null|     5.092|\n",
      "| 1408|    Cutthroat Island|               en|[{'id': 28, 'name...|          1995-12-22|                null|  7.284477|\n",
      "|  524|              Casino|               en|[{'id': 18, 'name...|          1995-11-22|                null| 10.137389|\n",
      "| 4584|Sense and Sensibi...|               en|[{'id': 18, 'name...|          1995-12-13|                null| 10.673167|\n",
      "|    5|          Four Rooms|               en|[{'id': 80, 'name...|          1995-12-09|                null|  9.026586|\n",
      "| 9273|Ace Ventura: When...|               en|[{'id': 80, 'name...|          1995-11-10|Ace Ventura Colle...|  8.205448|\n",
      "|11517|         Money Train|               en|[{'id': 28, 'name...|          1995-11-21|                null|  7.337906|\n",
      "+-----+--------------------+-----------------+--------------------+--------------------+--------------------+----------+\n",
      "only showing top 20 rows\n",
      "\n"
     ]
    }
   ],
   "source": [
    "metadata_movies_filtered.show()"
   ]
  },
  {
   "cell_type": "code",
   "execution_count": null,
   "metadata": {},
   "outputs": [],
   "source": []
  }
 ],
 "metadata": {
  "kernelspec": {
   "display_name": "Python 3",
   "language": "python",
   "name": "python3"
  },
  "language_info": {
   "codemirror_mode": {
    "name": "ipython",
    "version": 3
   },
   "file_extension": ".py",
   "mimetype": "text/x-python",
   "name": "python",
   "nbconvert_exporter": "python",
   "pygments_lexer": "ipython3",
   "version": "3.6.1"
  }
 },
 "nbformat": 4,
 "nbformat_minor": 2
}
