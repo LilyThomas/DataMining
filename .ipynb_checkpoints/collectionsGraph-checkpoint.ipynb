{
 "cells": [
  {
   "cell_type": "code",
   "execution_count": 1,
   "metadata": {},
   "outputs": [],
   "source": [
    "import csv\n",
    "# import findspark\n",
    "# findspark.init()\n",
    "import pyspark # only run after findspark.init()\n",
    "from pyspark.sql import SparkSession\n",
    "spark = SparkSession.builder.getOrCreate()\n",
    "import pyspark.sql.functions as F\n",
    "from pyspark.sql.functions import lit\n",
    "from pyspark.sql import *\n",
    "from pyspark.sql.types import *\n",
    "from pyspark.sql import SQLContext\n",
    "sqlContext = SQLContext(spark)\n",
    "import re\n",
    "import folium\n",
    "import matplotlib.pyplot as plt"
   ]
  },
  {
   "cell_type": "markdown",
   "metadata": {},
   "source": [
    "## Set Up"
   ]
  },
  {
   "cell_type": "code",
   "execution_count": 2,
   "metadata": {},
   "outputs": [],
   "source": [
    "metadata_file = spark.read.format(\"csv\").option(\"header\", \"true\").load(\"Movies/movies_metadata.csv\")\n",
    "credits_file = spark.read.format(\"csv\").option(\"header\", \"true\").load(\"Movies/credits.csv\")\n",
    "babynames_national = spark.read.format(\"csv\").option(\"header\", \"true\").load(\"Babynames/NationalNames.csv\")\n",
    "babynames_state = spark.read.format(\"csv\").option(\"header\", \"true\").load(\"Babynames/StateNames.csv\")"
   ]
  },
  {
   "cell_type": "markdown",
   "metadata": {},
   "source": [
    "## Clean up "
   ]
  },
  {
   "cell_type": "code",
   "execution_count": 3,
   "metadata": {},
   "outputs": [],
   "source": [
    "metadata_movies_start = metadata_file.select(\"id\", \"title\", \"original_language\", \"genres\", \"release_date\", \"belongs_to_collection\", \"popularity\")"
   ]
  },
  {
   "cell_type": "code",
   "execution_count": 4,
   "metadata": {},
   "outputs": [],
   "source": [
    "#Delete null values\n",
    "metadata_movies_filtered = metadata_movies_start.filter(metadata_movies_start.id.isNotNull()).filter(metadata_movies_start.release_date.isNotNull()).filter(metadata_movies_start.title.isNotNull()).filter(metadata_movies_start.original_language.isNotNull()).filter(metadata_movies_start.genres.isNotNull()).filter(metadata_movies_start.popularity.isNotNull())\n",
    "split_col = F.split(metadata_movies_filtered['belongs_to_collection'], ',')\n",
    "\n",
    "#collection\n",
    "metadata_movies_filtered = metadata_movies_filtered.withColumn('name_collection_name', split_col.getItem(1))\n",
    "metadata_movies_filtered = metadata_movies_filtered.select('id', 'title', 'original_language', 'genres', 'release_date', 'name_collection_name', 'popularity')\n",
    "split_col = F.split(metadata_movies_filtered['name_collection_name'], ':')\n",
    "metadata_movies_filtered = metadata_movies_filtered.withColumn('collection_name_with', split_col.getItem(1))\n",
    "split_col = F.split(metadata_movies_filtered['collection_name_with'], '\\'')\n",
    "metadata_movies_filtered = metadata_movies_filtered.withColumn('collection_name', split_col.getItem(1))\n",
    "metadata_movies_filtered = metadata_movies_filtered.select(\"id\", \"title\", \"original_language\", \"genres\", \"release_date\", \"collection_name\", \"popularity\")\n",
    "\n",
    "#original_language\n",
    "metadata_movies_languagefilter = metadata_movies_filtered.filter(F.col('original_language').rlike(\"^[a-z][a-z]$\"))\n",
    "metadata_movies_filtered = metadata_movies_languagefilter\n",
    "\n",
    "#released\n",
    "split_col = F.split(metadata_movies_filtered['release_date'], '-')\n",
    "metadata_movies_filtered = metadata_movies_filtered.withColumn('released', split_col.getItem(0))\n",
    "metadata_movies_filtered = metadata_movies_filtered.filter(F.col('released').rlike(\"^[0-9]{4}$\"))\n",
    "metadata_movies_filtered = metadata_movies_filtered.select('id', 'title', 'original_language', 'genres', 'released', 'collection_name', 'popularity')\n",
    "\n",
    "#Popularity\n",
    "metadata_movies_filtered = metadata_movies_filtered.filter(F.col('popularity').rlike(\"^[0-9]*\\.?[0-9]+$\"))\n",
    "\n",
    "#ID\n",
    "metadata_movies_filtered = metadata_movies_filtered.filter(F.col('id').rlike(\"^[0-9]+\"))\n",
    "\n",
    "#Title\n",
    "metadata_movies_filtered = metadata_movies_filtered.filter(F.col('title').rlike(\"^[A-Z]|[0-9]|[a-z]\"))\n",
    "\n",
    "#Genres\n",
    "split_genres = F.split(metadata_movies_filtered['genres'], '},')\n",
    "metadata_movies_filtered = metadata_movies_filtered.withColumn(\"genresize\", F.size(split_genres))\n",
    "\n",
    "result = metadata_movies_filtered.filter(metadata_movies_filtered.genresize > 0).collect()\n",
    "\n",
    "movies = []\n",
    "\n",
    "for r in result:\n",
    "    genres = \"\"\n",
    "    movie_id = r[0]\n",
    "    title = r[1]\n",
    "    original_language = r[2]\n",
    "    genres_complete = r[3]\n",
    "    released = r[4]\n",
    "    collection = r[5]\n",
    "    popularity = r[6]\n",
    "    \n",
    "    if genres_complete != \"[]\": \n",
    "        genres_split = genres_complete.split('},')\n",
    "\n",
    "\n",
    "        i = 0\n",
    "        for genre in genres_split:\n",
    "            genre_name = genre.split(',')[1].split(':')[1].split('\\'')[1]\n",
    "\n",
    "            genres += genre_name\n",
    "            if i < len(genres_split)-1:\n",
    "                genres += \", \"\n",
    "            i += 1\n",
    "        movies.append((movie_id, title, original_language, genres, released, collection, popularity))\n",
    "\n",
    "\n",
    "metadata_movies = sqlContext.createDataFrame(movies, ('movie_id', 'title', 'original_language', 'genres', 'released', 'collection', 'popularity'))"
   ]
  },
  {
   "cell_type": "code",
   "execution_count": 5,
   "metadata": {},
   "outputs": [],
   "source": [
    "# Credits clean up\n",
    "split_cast = F.split(credits_file['cast'], '},')\n",
    "credits_file = credits_file.withColumn('cast_size', F.size(split_cast))\n",
    "\n",
    "result = credits_file.filter(credits_file.cast_size > 0).collect()\n",
    "\n",
    "cast_row = []\n",
    "\n",
    "for r in result:\n",
    "    actor = \"\"\n",
    "    character = \"\"\n",
    "    gender = \"\"\n",
    "    movie_id = r[2]\n",
    "    \n",
    "    cast_complete = r[0]\n",
    "    \n",
    "    if cast_complete != \"[]\":\n",
    "        cast_split = cast_complete.split('},')\n",
    "        \n",
    "        for cast in cast_split:\n",
    "            if(len(cast.split(',')) > 7):\n",
    "                character = cast.split('\\'')[5]\n",
    "                actor = cast.split('\\'')[17]\n",
    "                gender = cast.split('\\'')[12].split(': ')[1].split(',')[0]\n",
    "                \n",
    "                if(\"(voice)\" in character):\n",
    "                    character = character.split(\" \")[0]\n",
    "                \n",
    "                if(gender == \"1\"):\n",
    "                    gender = \"F\"\n",
    "                elif(gender == \"2\"):\n",
    "                    gender = \"M\"\n",
    "                else:\n",
    "                    gender = \"Undefined\"\n",
    "            \n",
    "                cast_row.append((movie_id, character, actor, gender))\n",
    "\n",
    "credits = sqlContext.createDataFrame(cast_row, ('movie_id', 'character', 'actor', 'gender'))\n",
    "credits = credits.filter(F.col('movie_id').rlike(\"^[0-9]+\"))\n"
   ]
  },
  {
   "cell_type": "code",
   "execution_count": 6,
   "metadata": {},
   "outputs": [
    {
     "name": "stdout",
     "output_type": "stream",
     "text": [
      "+--------+--------------------+-----------------+--------------------+--------+--------------------+----------+\n",
      "|movie_id|               title|original_language|              genres|released|          collection|popularity|\n",
      "+--------+--------------------+-----------------+--------------------+--------+--------------------+----------+\n",
      "|     862|           Toy Story|               en|Animation, Comedy...|    1995|Toy Story Collection| 21.946943|\n",
      "|    8844|             Jumanji|               en|Adventure, Fantas...|    1995|                null| 17.015539|\n",
      "|   15602|    Grumpier Old Men|               en|     Romance, Comedy|    1995|Grumpy Old Men Co...|   11.7129|\n",
      "|   11862|Father of the Bri...|               en|              Comedy|    1995|Father of the Bri...|  8.387519|\n",
      "|     949|                Heat|               en|Action, Crime, Dr...|    1995|                null| 17.924927|\n",
      "|   11860|             Sabrina|               en|     Comedy, Romance|    1995|                null|  6.677277|\n",
      "|   45325|        Tom and Huck|               en|Action, Adventure...|    1995|                null|  2.561161|\n",
      "|    9091|        Sudden Death|               en|Action, Adventure...|    1995|                null|   5.23158|\n",
      "|     710|           GoldenEye|               en|Adventure, Action...|    1995|James Bond Collec...| 14.686036|\n",
      "|    9087|The American Pres...|               en|Comedy, Drama, Ro...|    1995|                null|  6.318445|\n",
      "|   12110|Dracula: Dead and...|               en|      Comedy, Horror|    1995|                null|  5.430331|\n",
      "|   21032|               Balto|               en|Family, Animation...|    1995|    Balto Collection| 12.140733|\n",
      "|   10858|               Nixon|               en|      History, Drama|    1995|                null|     5.092|\n",
      "|    1408|    Cutthroat Island|               en|   Action, Adventure|    1995|                null|  7.284477|\n",
      "|     524|              Casino|               en|        Drama, Crime|    1995|                null| 10.137389|\n",
      "|    4584|Sense and Sensibi...|               en|      Drama, Romance|    1995|                null| 10.673167|\n",
      "|       5|          Four Rooms|               en|       Crime, Comedy|    1995|                null|  9.026586|\n",
      "|    9273|Ace Ventura: When...|               en|Crime, Comedy, Ad...|    1995|Ace Ventura Colle...|  8.205448|\n",
      "|   11517|         Money Train|               en|Action, Comedy, C...|    1995|                null|  7.337906|\n",
      "|    1710|             Copycat|               en|     Drama, Thriller|    1995|                null| 10.701801|\n",
      "+--------+--------------------+-----------------+--------------------+--------+--------------------+----------+\n",
      "only showing top 20 rows\n",
      "\n"
     ]
    }
   ],
   "source": [
    "metadata_movies.show()"
   ]
  },
  {
   "cell_type": "code",
   "execution_count": 7,
   "metadata": {},
   "outputs": [
    {
     "name": "stdout",
     "output_type": "stream",
     "text": [
      "+--------+--------------------+------------------+---------+\n",
      "|movie_id|           character|             actor|   gender|\n",
      "+--------+--------------------+------------------+---------+\n",
      "|    8844|        Alan Parrish|    Robin Williams|        M|\n",
      "|    8844|Samuel Alan Parri...|     Jonathan Hyde|        M|\n",
      "|    8844|        Judy Sheperd|     Kirsten Dunst|        F|\n",
      "|    8844|      Peter Shepherd|    Bradley Pierce|Undefined|\n",
      "|    8844|       Sarah Whittle|       Bonnie Hunt|        F|\n",
      "|    8844|       Nora Shepherd|     Bebe Neuwirth|        F|\n",
      "|    8844|        Carl Bentley|  David Alan Grier|        M|\n",
      "|    8844|  Carol Anne Parrish| Patricia Clarkson|        F|\n",
      "|    8844|Alan Parrish (young)|    Adam Hann-Byrd|Undefined|\n",
      "|    8844|Sarah Whittle (yo...|  Laura Bell Bundy|        F|\n",
      "|    8844|        Exterminator|       James Handy|        M|\n",
      "|    8844|Mrs. Thomas the R...|    Gillian Barber|        F|\n",
      "|    8844|            Benjamin|     Brandon Obray|        M|\n",
      "|    8844|               Caleb|    Cyrus Thiedeke|Undefined|\n",
      "|    8844|        Billy Jessup|Gary Joseph Thorup|Undefined|\n",
      "|    8844|                 Cop|      Leonard Zola|Undefined|\n",
      "|    8844|                 Bum|       Lloyd Berry|        M|\n",
      "|    8844|        Jim Shepherd|   Malcolm Stewart|        M|\n",
      "|    8844|     Martha Shepherd|   Annabel Kershaw|Undefined|\n",
      "|    8844|        Gun Salesman|  Darryl Henriques|        M|\n",
      "+--------+--------------------+------------------+---------+\n",
      "only showing top 20 rows\n",
      "\n"
     ]
    }
   ],
   "source": [
    "credits.show()"
   ]
  },
  {
   "cell_type": "code",
   "execution_count": 8,
   "metadata": {},
   "outputs": [
    {
     "name": "stdout",
     "output_type": "stream",
     "text": [
      "+---+---------+----+------+-----+\n",
      "| Id|     Name|Year|Gender|Count|\n",
      "+---+---------+----+------+-----+\n",
      "|  1|     Mary|1880|     F| 7065|\n",
      "|  2|     Anna|1880|     F| 2604|\n",
      "|  3|     Emma|1880|     F| 2003|\n",
      "|  4|Elizabeth|1880|     F| 1939|\n",
      "|  5|   Minnie|1880|     F| 1746|\n",
      "|  6| Margaret|1880|     F| 1578|\n",
      "|  7|      Ida|1880|     F| 1472|\n",
      "|  8|    Alice|1880|     F| 1414|\n",
      "|  9|   Bertha|1880|     F| 1320|\n",
      "| 10|    Sarah|1880|     F| 1288|\n",
      "| 11|    Annie|1880|     F| 1258|\n",
      "| 12|    Clara|1880|     F| 1226|\n",
      "| 13|     Ella|1880|     F| 1156|\n",
      "| 14| Florence|1880|     F| 1063|\n",
      "| 15|     Cora|1880|     F| 1045|\n",
      "| 16|   Martha|1880|     F| 1040|\n",
      "| 17|    Laura|1880|     F| 1012|\n",
      "| 18|   Nellie|1880|     F|  995|\n",
      "| 19|    Grace|1880|     F|  982|\n",
      "| 20|   Carrie|1880|     F|  949|\n",
      "+---+---------+----+------+-----+\n",
      "only showing top 20 rows\n",
      "\n"
     ]
    }
   ],
   "source": [
    "babynames_national.show()"
   ]
  },
  {
   "cell_type": "code",
   "execution_count": 9,
   "metadata": {},
   "outputs": [
    {
     "name": "stdout",
     "output_type": "stream",
     "text": [
      "+---+---------+----+------+-----+-----+\n",
      "| Id|     Name|Year|Gender|State|Count|\n",
      "+---+---------+----+------+-----+-----+\n",
      "|  1|     Mary|1910|     F|   AK|   14|\n",
      "|  2|    Annie|1910|     F|   AK|   12|\n",
      "|  3|     Anna|1910|     F|   AK|   10|\n",
      "|  4| Margaret|1910|     F|   AK|    8|\n",
      "|  5|    Helen|1910|     F|   AK|    7|\n",
      "|  6|    Elsie|1910|     F|   AK|    6|\n",
      "|  7|     Lucy|1910|     F|   AK|    6|\n",
      "|  8|  Dorothy|1910|     F|   AK|    5|\n",
      "|  9|     Mary|1911|     F|   AK|   12|\n",
      "| 10| Margaret|1911|     F|   AK|    7|\n",
      "| 11|     Ruth|1911|     F|   AK|    7|\n",
      "| 12|    Annie|1911|     F|   AK|    6|\n",
      "| 13|Elizabeth|1911|     F|   AK|    6|\n",
      "| 14|    Helen|1911|     F|   AK|    6|\n",
      "| 15|     Mary|1912|     F|   AK|    9|\n",
      "| 16|    Elsie|1912|     F|   AK|    8|\n",
      "| 17|    Agnes|1912|     F|   AK|    7|\n",
      "| 18|     Anna|1912|     F|   AK|    7|\n",
      "| 19|    Helen|1912|     F|   AK|    7|\n",
      "| 20|   Louise|1912|     F|   AK|    7|\n",
      "+---+---------+----+------+-----+-----+\n",
      "only showing top 20 rows\n",
      "\n"
     ]
    }
   ],
   "source": [
    "babynames_state.show()"
   ]
  },
  {
   "cell_type": "markdown",
   "metadata": {},
   "source": [
    "## Data"
   ]
  },
  {
   "cell_type": "code",
   "execution_count": 10,
   "metadata": {},
   "outputs": [
    {
     "name": "stdout",
     "output_type": "stream",
     "text": [
      "+------+-----+----+------+-----+-----+--------+---------+----------------+------+\n",
      "|    Id| Name|Year|Gender|State|Count|movie_id|character|           actor|gender|\n",
      "+------+-----+----+------+-----+-----+--------+---------+----------------+------+\n",
      "| 97585|Abner|1916|     M|   AL|    6|   42040|    Abner|     John Castle|     M|\n",
      "| 97585|Abner|1916|     M|   AL|    6|   95504|    Abner|     Peter Miles|     M|\n",
      "| 97585|Abner|1916|     M|   AL|    6|    2734|    Abner|Richard Ashcroft|     M|\n",
      "| 98654|Abner|1918|     M|   AL|    5|   42040|    Abner|     John Castle|     M|\n",
      "| 98654|Abner|1918|     M|   AL|    5|   95504|    Abner|     Peter Miles|     M|\n",
      "| 98654|Abner|1918|     M|   AL|    5|    2734|    Abner|Richard Ashcroft|     M|\n",
      "| 99642|Abner|1920|     M|   AL|    8|   42040|    Abner|     John Castle|     M|\n",
      "| 99642|Abner|1920|     M|   AL|    8|   95504|    Abner|     Peter Miles|     M|\n",
      "| 99642|Abner|1920|     M|   AL|    8|    2734|    Abner|Richard Ashcroft|     M|\n",
      "|100283|Abner|1921|     M|   AL|    6|   42040|    Abner|     John Castle|     M|\n",
      "|100283|Abner|1921|     M|   AL|    6|   95504|    Abner|     Peter Miles|     M|\n",
      "|100283|Abner|1921|     M|   AL|    6|    2734|    Abner|Richard Ashcroft|     M|\n",
      "|100836|Abner|1922|     M|   AL|    6|   42040|    Abner|     John Castle|     M|\n",
      "|100836|Abner|1922|     M|   AL|    6|   95504|    Abner|     Peter Miles|     M|\n",
      "|100836|Abner|1922|     M|   AL|    6|    2734|    Abner|Richard Ashcroft|     M|\n",
      "|101353|Abner|1923|     M|   AL|    7|   42040|    Abner|     John Castle|     M|\n",
      "|101353|Abner|1923|     M|   AL|    7|   95504|    Abner|     Peter Miles|     M|\n",
      "|101353|Abner|1923|     M|   AL|    7|    2734|    Abner|Richard Ashcroft|     M|\n",
      "|103016|Abner|1926|     M|   AL|    6|   42040|    Abner|     John Castle|     M|\n",
      "|103016|Abner|1926|     M|   AL|    6|   95504|    Abner|     Peter Miles|     M|\n",
      "+------+-----+----+------+-----+-----+--------+---------+----------------+------+\n",
      "only showing top 20 rows\n",
      "\n"
     ]
    }
   ],
   "source": [
    "inner_join = babynames_state.join(credits, babynames_state.Name == credits.character)\n",
    "inner_join.show()"
   ]
  },
  {
   "cell_type": "code",
   "execution_count": 11,
   "metadata": {},
   "outputs": [
    {
     "name": "stdout",
     "output_type": "stream",
     "text": [
      "+--------+--------------------+-----------------+--------------------+--------+--------------------+----------+\n",
      "|movie_id|               title|original_language|              genres|released|          collection|popularity|\n",
      "+--------+--------------------+-----------------+--------------------+--------+--------------------+----------+\n",
      "|     671|Harry Potter and ...|               en|Adventure, Fantas...|    2001|Harry Potter Coll...| 38.187238|\n",
      "|     672|Harry Potter and ...|               en|Adventure, Fantas...|    2002|Harry Potter Coll...| 29.741452|\n",
      "|     673|Harry Potter and ...|               en|Adventure, Fantas...|    2004|Harry Potter Coll...| 28.460276|\n",
      "|     674|Harry Potter and ...|               en|Adventure, Fantas...|    2005|Harry Potter Coll...| 24.903058|\n",
      "|     675|Harry Potter and ...|               en|Adventure, Fantas...|    2007|Harry Potter Coll...|   21.3643|\n",
      "|     767|Harry Potter and ...|               en|Adventure, Fantas...|    2009|Harry Potter Coll...| 19.083723|\n",
      "|   12444|Harry Potter and ...|               en|Adventure, Fantas...|    2010|Harry Potter Coll...| 23.300362|\n",
      "|   12445|Harry Potter and ...|               en|Family, Fantasy, ...|    2011|Harry Potter Coll...| 24.990737|\n",
      "+--------+--------------------+-----------------+--------------------+--------+--------------------+----------+\n",
      "\n"
     ]
    }
   ],
   "source": [
    "movie = metadata_movies.filter(metadata_movies.collection.contains(\"Harry Potter\")).orderBy('released', ascending=True)\n",
    "movie.show()"
   ]
  },
  {
   "cell_type": "code",
   "execution_count": 12,
   "metadata": {},
   "outputs": [
    {
     "name": "stdout",
     "output_type": "stream",
     "text": [
      "[2001, 2002, 2004, 2005, 2007, 2009, 2010, 2011]\n"
     ]
    }
   ],
   "source": [
    "movie_released = [int(row.released) for row in movie.select('released').collect()]\n",
    "print(movie_released)"
   ]
  },
  {
   "cell_type": "markdown",
   "metadata": {},
   "source": [
    "Jaren vanaf de 5 jaar voor de release tot 5 jaar na de release"
   ]
  },
  {
   "cell_type": "code",
   "execution_count": 13,
   "metadata": {},
   "outputs": [
    {
     "name": "stdout",
     "output_type": "stream",
     "text": [
      "[1996, 1997, 1998, 1999, 2000, 2001, 2002, 2003, 2004, 2005, 2006, 2007, 2008, 2009, 2010, 2011, 2012, 2013, 2014, 2015]\n"
     ]
    }
   ],
   "source": [
    "years = [ x for x in range(movie_released[0] - 5, movie_released[len(movie_released)-1]+5)]\n",
    "print(years)"
   ]
  },
  {
   "cell_type": "code",
   "execution_count": 14,
   "metadata": {},
   "outputs": [
    {
     "name": "stdout",
     "output_type": "stream",
     "text": [
      "[671, 672, 673, 674, 675, 767, 12444, 12445]\n"
     ]
    }
   ],
   "source": [
    "movie_id = [int(row.movie_id) for row in movie.select('movie_id').collect()]\n",
    "print(movie_id)"
   ]
  },
  {
   "cell_type": "code",
   "execution_count": 15,
   "metadata": {},
   "outputs": [
    {
     "name": "stdout",
     "output_type": "stream",
     "text": [
      "+--------+---------+-----------------+---------+\n",
      "|movie_id|character|            actor|   gender|\n",
      "+--------+---------+-----------------+---------+\n",
      "|   12445|  Astoria|      Jade Gordon|        F|\n",
      "|   12445|   Horace|    Jim Broadbent|        M|\n",
      "|   12445|   Pomona| Miriam Margolyes|        F|\n",
      "|   12445|      Ron|     Rupert Grint|        M|\n",
      "|   12445|  Severus|     Alan Rickman|        M|\n",
      "|   12445|    Katie|Georgina Leonidas|        F|\n",
      "|   12445|      Mr.|        John Hurt|        M|\n",
      "|   12445|    Padma|      Afshan Azad|        F|\n",
      "|   12445|   George|    Oliver Phelps|        M|\n",
      "|   12445| Kingsley|    George Harris|        M|\n",
      "|   12445|     Twin|       Ruby Evans|Undefined|\n",
      "|   12445|   Cormac|   Freddie Stroma|        M|\n",
      "|   12445|   Alecto|      Suzie Toase|Undefined|\n",
      "|   12445|    James|        Will Dunn|Undefined|\n",
      "|   12445|    Pansy|   Scarlett Byrne|        F|\n",
      "|   12445|    Giant|    Philip Wright|Undefined|\n",
      "|   12445|   Fenrir|      Dave Legeno|        M|\n",
      "|   12445|  Minerva|     Maggie Smith|        F|\n",
      "|   12445|    Young|  Benedict Clarke|Undefined|\n",
      "|   12445|    Molly|    Julie Walters|        F|\n",
      "+--------+---------+-----------------+---------+\n",
      "only showing top 20 rows\n",
      "\n"
     ]
    }
   ],
   "source": [
    "movie_credits = credits.where(F.col(\"movie_id\").isin(movie_id)).dropDuplicates(['character'])\n",
    "character_split = F.split(movie_credits['character'], ' ')\n",
    "movie_credits = movie_credits.withColumn(\"character\", character_split.getItem(0))\n",
    "movie_credits.show()"
   ]
  },
  {
   "cell_type": "code",
   "execution_count": 16,
   "metadata": {},
   "outputs": [],
   "source": [
    "# luke_table = babynames_national.filter(babynames_national.Name.like(\"Luke\"))\n",
    "# luke_table = luke_table.filter(F.col('Year').isin(years))\n",
    "# luke_table = luke_table.groupBy('Year', 'Year').agg(F.sum('Count').alias('Count')).orderBy('Year')\n",
    "\n",
    "# luke_count = [int(row.Count) for row in luke_table.select('Count').collect()]\n",
    "# years = [int(row.Year) for row in luke_table.select('Year').collect()]\n",
    "# fig = plt.figure(figsize=(15, 5))\n",
    "# plt1 = fig.add_subplot(121)\n",
    "# plt1.plot(years, luke_count)"
   ]
  },
  {
   "cell_type": "code",
   "execution_count": 17,
   "metadata": {},
   "outputs": [],
   "source": [
    "movie_characters = [row.character for row in movie_credits.select('character').collect()]\n",
    "movie_babynames_table = babynames_national.where(F.col(\"Name\").isin(movie_characters)).where(F.col('Year').isin(years))\n",
    "movie_babynames_table = movie_babynames_table.groupBy('Year', 'Year').agg(F.sum('Count').alias('Count')).orderBy('Year')"
   ]
  },
  {
   "cell_type": "code",
   "execution_count": 18,
   "metadata": {},
   "outputs": [
    {
     "data": {
      "image/png": "[encoded data removed]",
      "text/plain": [
       "<Figure size 1080x360 with 1 Axes>"
      ]
     },
     "metadata": {
      "needs_background": "light"
     },
     "output_type": "display_data"
    }
   ],
   "source": [
    "babynames_count = [int(row.Count) for row in movie_babynames_table.select('Count').collect()]\n",
    "years = [int(row.Year) for row in movie_babynames_table.select('Year').collect()]\n",
    "fig = plt.figure(figsize=(15,5))\n",
    "plt1 = fig.add_subplot(121)\n",
    "plt1.plot(years, babynames_count)\n",
    "\n",
    "for year in movie_released:\n",
    "    plt1.axvline(x=year)"
   ]
  },
  {
   "cell_type": "code",
   "execution_count": null,
   "metadata": {},
   "outputs": [],
   "source": []
  }
 ],
 "metadata": {
  "kernelspec": {
   "display_name": "Python 3",
   "language": "python",
   "name": "python3"
  },
  "language_info": {
   "codemirror_mode": {
    "name": "ipython",
    "version": 3
   },
   "file_extension": ".py",
   "mimetype": "text/x-python",
   "name": "python",
   "nbconvert_exporter": "python",
   "pygments_lexer": "ipython3",
   "version": "3.6.1"
  }
 },
 "nbformat": 4,
 "nbformat_minor": 2
}
