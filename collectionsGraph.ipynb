{
 "cells": [
  {
   "cell_type": "code",
<<<<<<< HEAD
   "execution_count": 2,
=======
   "execution_count": 65,
>>>>>>> 87848268c6a3490720e627ffc2f52c08e204692c
   "metadata": {},
   "outputs": [],
   "source": [
    "import csv\n",
    "# import findspark\n",
    "# findspark.init()\n",
    "import pyspark # only run after findspark.init()\n",
    "from pyspark.sql import SparkSession\n",
    "spark = SparkSession.builder.getOrCreate()\n",
    "import pyspark.sql.functions as F\n",
    "from pyspark.sql.functions import lit\n",
    "from pyspark.sql import *\n",
    "from pyspark.sql.types import *\n",
    "from pyspark.sql import SQLContext\n",
    "sqlContext = SQLContext(spark)\n",
    "import re\n",
    "import folium\n",
    "import matplotlib.pyplot as plt"
   ]
  },
  {
   "cell_type": "markdown",
   "metadata": {},
   "source": [
    "## Set Up"
   ]
  },
  {
   "cell_type": "code",
<<<<<<< HEAD
   "execution_count": 3,
=======
   "execution_count": 66,
>>>>>>> 87848268c6a3490720e627ffc2f52c08e204692c
   "metadata": {},
   "outputs": [],
   "source": [
    "metadata_file = spark.read.format(\"csv\").option(\"header\", \"true\").load(\"Movies/movies_metadata.csv\")\n",
    "credits_file = spark.read.format(\"csv\").option(\"header\", \"true\").load(\"Movies/credits.csv\")\n",
    "babynames_national = spark.read.format(\"csv\").option(\"header\", \"true\").load(\"Babynames/NationalNames.csv\")\n",
    "babynames_state = spark.read.format(\"csv\").option(\"header\", \"true\").load(\"Babynames/StateNames.csv\")"
   ]
  },
  {
   "cell_type": "markdown",
   "metadata": {},
   "source": [
    "## Clean up "
   ]
  },
  {
   "cell_type": "code",
<<<<<<< HEAD
   "execution_count": 4,
=======
   "execution_count": 67,
>>>>>>> 87848268c6a3490720e627ffc2f52c08e204692c
   "metadata": {},
   "outputs": [],
   "source": [
    "metadata_movies_start = metadata_file.select(\"id\", \"title\", \"original_language\", \"genres\", \"release_date\", \"belongs_to_collection\", \"popularity\")"
   ]
  },
  {
   "cell_type": "code",
<<<<<<< HEAD
   "execution_count": 5,
=======
   "execution_count": 68,
>>>>>>> 87848268c6a3490720e627ffc2f52c08e204692c
   "metadata": {},
   "outputs": [],
   "source": [
    "#Delete null values\n",
    "metadata_movies_filtered = metadata_movies_start.filter(metadata_movies_start.id.isNotNull()).filter(metadata_movies_start.release_date.isNotNull()).filter(metadata_movies_start.title.isNotNull()).filter(metadata_movies_start.original_language.isNotNull()).filter(metadata_movies_start.genres.isNotNull()).filter(metadata_movies_start.popularity.isNotNull())\n",
    "split_col = F.split(metadata_movies_filtered['belongs_to_collection'], ',')\n",
    "\n",
    "#collection\n",
    "metadata_movies_filtered = metadata_movies_filtered.withColumn('name_collection_name', split_col.getItem(1))\n",
    "metadata_movies_filtered = metadata_movies_filtered.select('id', 'title', 'original_language', 'genres', 'release_date', 'name_collection_name', 'popularity')\n",
    "split_col = F.split(metadata_movies_filtered['name_collection_name'], ':')\n",
    "metadata_movies_filtered = metadata_movies_filtered.withColumn('collection_name_with', split_col.getItem(1))\n",
    "split_col = F.split(metadata_movies_filtered['collection_name_with'], '\\'')\n",
    "metadata_movies_filtered = metadata_movies_filtered.withColumn('collection_name', split_col.getItem(1))\n",
    "metadata_movies_filtered = metadata_movies_filtered.select(\"id\", \"title\", \"original_language\", \"genres\", \"release_date\", \"collection_name\", \"popularity\")\n",
    "\n",
    "#original_language\n",
    "metadata_movies_languagefilter = metadata_movies_filtered.filter(F.col('original_language').rlike(\"^[a-z][a-z]$\"))\n",
    "metadata_movies_filtered = metadata_movies_languagefilter\n",
    "\n",
    "#released\n",
    "split_col = F.split(metadata_movies_filtered['release_date'], '-')\n",
    "metadata_movies_filtered = metadata_movies_filtered.withColumn('released', split_col.getItem(0))\n",
    "metadata_movies_filtered = metadata_movies_filtered.filter(F.col('released').rlike(\"^[0-9]{4}$\"))\n",
    "metadata_movies_filtered = metadata_movies_filtered.select('id', 'title', 'original_language', 'genres', 'released', 'collection_name', 'popularity')\n",
    "\n",
    "#Popularity\n",
    "metadata_movies_filtered = metadata_movies_filtered.filter(F.col('popularity').rlike(\"^[0-9]*\\.?[0-9]+$\"))\n",
    "\n",
    "#ID\n",
    "metadata_movies_filtered = metadata_movies_filtered.filter(F.col('id').rlike(\"^[0-9]+\"))\n",
    "\n",
    "#Title\n",
    "metadata_movies_filtered = metadata_movies_filtered.filter(F.col('title').rlike(\"^[A-Z]|[0-9]|[a-z]\"))\n",
    "\n",
    "#Genres\n",
    "split_genres = F.split(metadata_movies_filtered['genres'], '},')\n",
    "metadata_movies_filtered = metadata_movies_filtered.withColumn(\"genresize\", F.size(split_genres))\n",
    "\n",
    "result = metadata_movies_filtered.filter(metadata_movies_filtered.genresize > 0).collect()\n",
    "\n",
    "movies = []\n",
    "\n",
    "for r in result:\n",
    "    genres = \"\"\n",
    "    movie_id = r[0]\n",
    "    title = r[1]\n",
    "    original_language = r[2]\n",
    "    genres_complete = r[3]\n",
    "    released = r[4]\n",
    "    collection = r[5]\n",
    "    popularity = r[6]\n",
    "    \n",
    "    if genres_complete != \"[]\": \n",
    "        genres_split = genres_complete.split('},')\n",
    "\n",
    "\n",
    "        i = 0\n",
    "        for genre in genres_split:\n",
    "            genre_name = genre.split(',')[1].split(':')[1].split('\\'')[1]\n",
    "\n",
    "            genres += genre_name\n",
    "            if i < len(genres_split)-1:\n",
    "                genres += \", \"\n",
    "            i += 1\n",
    "        movies.append((movie_id, title, original_language, genres, released, collection, popularity))\n",
    "\n",
    "\n",
    "metadata_movies = sqlContext.createDataFrame(movies, ('movie_id', 'title', 'original_language', 'genres', 'released', 'collection', 'popularity'))"
   ]
  },
  {
   "cell_type": "code",
<<<<<<< HEAD
   "execution_count": 6,
=======
   "execution_count": 69,
>>>>>>> 87848268c6a3490720e627ffc2f52c08e204692c
   "metadata": {},
   "outputs": [],
   "source": [
    "# Credits clean up\n",
    "split_cast = F.split(credits_file['cast'], '},')\n",
    "credits_file = credits_file.withColumn('cast_size', F.size(split_cast))\n",
    "\n",
    "result = credits_file.filter(credits_file.cast_size > 0).collect()\n",
    "\n",
    "cast_row = []\n",
    "\n",
    "for r in result:\n",
    "    actor = \"\"\n",
    "    character = \"\"\n",
    "    gender = \"\"\n",
    "    movie_id = r[2]\n",
    "    \n",
    "    cast_complete = r[0]\n",
    "    \n",
    "    if cast_complete != \"[]\":\n",
    "        cast_split = cast_complete.split('},')\n",
    "        \n",
    "        for cast in cast_split:\n",
    "            if(len(cast.split(',')) > 7):\n",
    "                character = cast.split('\\'')[5]\n",
    "                actor = cast.split('\\'')[17]\n",
    "                gender = cast.split('\\'')[12].split(': ')[1].split(',')[0]\n",
    "                \n",
    "                if(\"(voice)\" in character):\n",
    "                    character = character.split(\" \")[0]\n",
    "                \n",
    "                if(gender == \"1\"):\n",
    "                    gender = \"F\"\n",
    "                elif(gender == \"2\"):\n",
    "                    gender = \"M\"\n",
    "                else:\n",
    "                    gender = \"Undefined\"\n",
    "            \n",
    "                cast_row.append((movie_id, character, actor, gender))\n",
    "\n",
    "credits = sqlContext.createDataFrame(cast_row, ('movie_id', 'character', 'actor', 'gender'))\n",
    "credits = credits.filter(F.col('movie_id').rlike(\"^[0-9]+\"))\n"
   ]
  },
  {
   "cell_type": "code",
<<<<<<< HEAD
   "execution_count": 7,
=======
   "execution_count": 70,
>>>>>>> 87848268c6a3490720e627ffc2f52c08e204692c
   "metadata": {},
   "outputs": [
    {
     "name": "stdout",
     "output_type": "stream",
     "text": [
      "+--------+--------------------+-----------------+--------------------+--------+--------------------+----------+\n",
      "|movie_id|               title|original_language|              genres|released|          collection|popularity|\n",
      "+--------+--------------------+-----------------+--------------------+--------+--------------------+----------+\n",
      "|     862|           Toy Story|               en|Animation, Comedy...|    1995|Toy Story Collection| 21.946943|\n",
      "|    8844|             Jumanji|               en|Adventure, Fantas...|    1995|                null| 17.015539|\n",
      "|   15602|    Grumpier Old Men|               en|     Romance, Comedy|    1995|Grumpy Old Men Co...|   11.7129|\n",
      "|   11862|Father of the Bri...|               en|              Comedy|    1995|Father of the Bri...|  8.387519|\n",
      "|     949|                Heat|               en|Action, Crime, Dr...|    1995|                null| 17.924927|\n",
      "|   11860|             Sabrina|               en|     Comedy, Romance|    1995|                null|  6.677277|\n",
      "|   45325|        Tom and Huck|               en|Action, Adventure...|    1995|                null|  2.561161|\n",
      "|    9091|        Sudden Death|               en|Action, Adventure...|    1995|                null|   5.23158|\n",
      "|     710|           GoldenEye|               en|Adventure, Action...|    1995|James Bond Collec...| 14.686036|\n",
      "|    9087|The American Pres...|               en|Comedy, Drama, Ro...|    1995|                null|  6.318445|\n",
      "|   12110|Dracula: Dead and...|               en|      Comedy, Horror|    1995|                null|  5.430331|\n",
      "|   21032|               Balto|               en|Family, Animation...|    1995|    Balto Collection| 12.140733|\n",
      "|   10858|               Nixon|               en|      History, Drama|    1995|                null|     5.092|\n",
      "|    1408|    Cutthroat Island|               en|   Action, Adventure|    1995|                null|  7.284477|\n",
      "|     524|              Casino|               en|        Drama, Crime|    1995|                null| 10.137389|\n",
      "|    4584|Sense and Sensibi...|               en|      Drama, Romance|    1995|                null| 10.673167|\n",
      "|       5|          Four Rooms|               en|       Crime, Comedy|    1995|                null|  9.026586|\n",
      "|    9273|Ace Ventura: When...|               en|Crime, Comedy, Ad...|    1995|Ace Ventura Colle...|  8.205448|\n",
      "|   11517|         Money Train|               en|Action, Comedy, C...|    1995|                null|  7.337906|\n",
      "|    1710|             Copycat|               en|     Drama, Thriller|    1995|                null| 10.701801|\n",
      "+--------+--------------------+-----------------+--------------------+--------+--------------------+----------+\n",
      "only showing top 20 rows\n",
      "\n"
     ]
    }
   ],
   "source": [
    "metadata_movies.show()"
   ]
  },
  {
   "cell_type": "code",
<<<<<<< HEAD
   "execution_count": 8,
=======
   "execution_count": 71,
>>>>>>> 87848268c6a3490720e627ffc2f52c08e204692c
   "metadata": {},
   "outputs": [
    {
     "name": "stdout",
     "output_type": "stream",
     "text": [
      "+--------+--------------------+------------------+---------+\n",
      "|movie_id|           character|             actor|   gender|\n",
      "+--------+--------------------+------------------+---------+\n",
      "|    8844|        Alan Parrish|    Robin Williams|        M|\n",
      "|    8844|Samuel Alan Parri...|     Jonathan Hyde|        M|\n",
      "|    8844|        Judy Sheperd|     Kirsten Dunst|        F|\n",
      "|    8844|      Peter Shepherd|    Bradley Pierce|Undefined|\n",
      "|    8844|       Sarah Whittle|       Bonnie Hunt|        F|\n",
      "|    8844|       Nora Shepherd|     Bebe Neuwirth|        F|\n",
      "|    8844|        Carl Bentley|  David Alan Grier|        M|\n",
      "|    8844|  Carol Anne Parrish| Patricia Clarkson|        F|\n",
      "|    8844|Alan Parrish (young)|    Adam Hann-Byrd|Undefined|\n",
      "|    8844|Sarah Whittle (yo...|  Laura Bell Bundy|        F|\n",
      "|    8844|        Exterminator|       James Handy|        M|\n",
      "|    8844|Mrs. Thomas the R...|    Gillian Barber|        F|\n",
      "|    8844|            Benjamin|     Brandon Obray|        M|\n",
      "|    8844|               Caleb|    Cyrus Thiedeke|Undefined|\n",
      "|    8844|        Billy Jessup|Gary Joseph Thorup|Undefined|\n",
      "|    8844|                 Cop|      Leonard Zola|Undefined|\n",
      "|    8844|                 Bum|       Lloyd Berry|        M|\n",
      "|    8844|        Jim Shepherd|   Malcolm Stewart|        M|\n",
      "|    8844|     Martha Shepherd|   Annabel Kershaw|Undefined|\n",
      "|    8844|        Gun Salesman|  Darryl Henriques|        M|\n",
      "+--------+--------------------+------------------+---------+\n",
      "only showing top 20 rows\n",
      "\n"
     ]
    }
   ],
   "source": [
    "credits.show()"
   ]
  },
  {
   "cell_type": "code",
<<<<<<< HEAD
   "execution_count": 9,
=======
   "execution_count": 72,
>>>>>>> 87848268c6a3490720e627ffc2f52c08e204692c
   "metadata": {},
   "outputs": [
    {
     "name": "stdout",
     "output_type": "stream",
     "text": [
      "+---+---------+----+------+-----+\n",
      "| Id|     Name|Year|Gender|Count|\n",
      "+---+---------+----+------+-----+\n",
      "|  1|     Mary|1880|     F| 7065|\n",
      "|  2|     Anna|1880|     F| 2604|\n",
      "|  3|     Emma|1880|     F| 2003|\n",
      "|  4|Elizabeth|1880|     F| 1939|\n",
      "|  5|   Minnie|1880|     F| 1746|\n",
      "|  6| Margaret|1880|     F| 1578|\n",
      "|  7|      Ida|1880|     F| 1472|\n",
      "|  8|    Alice|1880|     F| 1414|\n",
      "|  9|   Bertha|1880|     F| 1320|\n",
      "| 10|    Sarah|1880|     F| 1288|\n",
      "| 11|    Annie|1880|     F| 1258|\n",
      "| 12|    Clara|1880|     F| 1226|\n",
      "| 13|     Ella|1880|     F| 1156|\n",
      "| 14| Florence|1880|     F| 1063|\n",
      "| 15|     Cora|1880|     F| 1045|\n",
      "| 16|   Martha|1880|     F| 1040|\n",
      "| 17|    Laura|1880|     F| 1012|\n",
      "| 18|   Nellie|1880|     F|  995|\n",
      "| 19|    Grace|1880|     F|  982|\n",
      "| 20|   Carrie|1880|     F|  949|\n",
      "+---+---------+----+------+-----+\n",
      "only showing top 20 rows\n",
      "\n"
     ]
    }
   ],
   "source": [
    "babynames_national.show()"
   ]
  },
  {
   "cell_type": "code",
<<<<<<< HEAD
   "execution_count": 10,
=======
   "execution_count": 73,
>>>>>>> 87848268c6a3490720e627ffc2f52c08e204692c
   "metadata": {},
   "outputs": [
    {
     "name": "stdout",
     "output_type": "stream",
     "text": [
      "+---+---------+----+------+-----+-----+\n",
      "| Id|     Name|Year|Gender|State|Count|\n",
      "+---+---------+----+------+-----+-----+\n",
      "|  1|     Mary|1910|     F|   AK|   14|\n",
      "|  2|    Annie|1910|     F|   AK|   12|\n",
      "|  3|     Anna|1910|     F|   AK|   10|\n",
      "|  4| Margaret|1910|     F|   AK|    8|\n",
      "|  5|    Helen|1910|     F|   AK|    7|\n",
      "|  6|    Elsie|1910|     F|   AK|    6|\n",
      "|  7|     Lucy|1910|     F|   AK|    6|\n",
      "|  8|  Dorothy|1910|     F|   AK|    5|\n",
      "|  9|     Mary|1911|     F|   AK|   12|\n",
      "| 10| Margaret|1911|     F|   AK|    7|\n",
      "| 11|     Ruth|1911|     F|   AK|    7|\n",
      "| 12|    Annie|1911|     F|   AK|    6|\n",
      "| 13|Elizabeth|1911|     F|   AK|    6|\n",
      "| 14|    Helen|1911|     F|   AK|    6|\n",
      "| 15|     Mary|1912|     F|   AK|    9|\n",
      "| 16|    Elsie|1912|     F|   AK|    8|\n",
      "| 17|    Agnes|1912|     F|   AK|    7|\n",
      "| 18|     Anna|1912|     F|   AK|    7|\n",
      "| 19|    Helen|1912|     F|   AK|    7|\n",
      "| 20|   Louise|1912|     F|   AK|    7|\n",
      "+---+---------+----+------+-----+-----+\n",
      "only showing top 20 rows\n",
      "\n"
     ]
    }
   ],
   "source": [
    "babynames_state.show()"
   ]
  },
  {
   "cell_type": "markdown",
   "metadata": {},
   "source": [
    "## Data"
   ]
  },
  {
   "cell_type": "code",
<<<<<<< HEAD
   "execution_count": 11,
=======
   "execution_count": 74,
>>>>>>> 87848268c6a3490720e627ffc2f52c08e204692c
   "metadata": {},
   "outputs": [
    {
     "name": "stdout",
     "output_type": "stream",
     "text": [
<<<<<<< HEAD
      "+-------+-----+----+------+-----+-----+--------+---------+----------------+------+\n",
      "|     Id| Name|Year|Gender|State|Count|movie_id|character|           actor|gender|\n",
      "+-------+-----+----+------+-----+-----+--------+---------+----------------+------+\n",
      "|2018138|Abner|1918|     M|   KY|    5|   95504|    Abner|     Peter Miles|     M|\n",
      "|2018138|Abner|1918|     M|   KY|    5|   42040|    Abner|     John Castle|     M|\n",
      "|2018138|Abner|1918|     M|   KY|    5|    2734|    Abner|Richard Ashcroft|     M|\n",
      "|2020813|Abner|1923|     M|   KY|    5|   95504|    Abner|     Peter Miles|     M|\n",
      "|2020813|Abner|1923|     M|   KY|    5|   42040|    Abner|     John Castle|     M|\n",
      "|2020813|Abner|1923|     M|   KY|    5|    2734|    Abner|Richard Ashcroft|     M|\n",
      "|2022900|Abner|1927|     M|   KY|    6|   95504|    Abner|     Peter Miles|     M|\n",
      "|2022900|Abner|1927|     M|   KY|    6|   42040|    Abner|     John Castle|     M|\n",
      "|2022900|Abner|1927|     M|   KY|    6|    2734|    Abner|Richard Ashcroft|     M|\n",
      "|2025892|Abner|1933|     M|   KY|    6|   95504|    Abner|     Peter Miles|     M|\n",
      "|2025892|Abner|1933|     M|   KY|    6|   42040|    Abner|     John Castle|     M|\n",
      "|2025892|Abner|1933|     M|   KY|    6|    2734|    Abner|Richard Ashcroft|     M|\n",
      "|2142628|Abner|1916|     M|   LA|    6|   95504|    Abner|     Peter Miles|     M|\n",
      "|2142628|Abner|1916|     M|   LA|    6|   42040|    Abner|     John Castle|     M|\n",
      "|2142628|Abner|1916|     M|   LA|    6|    2734|    Abner|Richard Ashcroft|     M|\n",
      "|2143097|Abner|1917|     M|   LA|    5|   95504|    Abner|     Peter Miles|     M|\n",
      "|2143097|Abner|1917|     M|   LA|    5|   42040|    Abner|     John Castle|     M|\n",
      "|2143097|Abner|1917|     M|   LA|    5|    2734|    Abner|Richard Ashcroft|     M|\n",
      "|2143567|Abner|1918|     M|   LA|    5|   95504|    Abner|     Peter Miles|     M|\n",
      "|2143567|Abner|1918|     M|   LA|    5|   42040|    Abner|     John Castle|     M|\n",
      "+-------+-----+----+------+-----+-----+--------+---------+----------------+------+\n",
=======
      "+------+-----+----+------+-----+-----+--------+---------+----------------+------+\n",
      "|    Id| Name|Year|Gender|State|Count|movie_id|character|           actor|gender|\n",
      "+------+-----+----+------+-----+-----+--------+---------+----------------+------+\n",
      "| 97585|Abner|1916|     M|   AL|    6|   42040|    Abner|     John Castle|     M|\n",
      "| 97585|Abner|1916|     M|   AL|    6|   95504|    Abner|     Peter Miles|     M|\n",
      "| 97585|Abner|1916|     M|   AL|    6|    2734|    Abner|Richard Ashcroft|     M|\n",
      "| 98654|Abner|1918|     M|   AL|    5|   42040|    Abner|     John Castle|     M|\n",
      "| 98654|Abner|1918|     M|   AL|    5|   95504|    Abner|     Peter Miles|     M|\n",
      "| 98654|Abner|1918|     M|   AL|    5|    2734|    Abner|Richard Ashcroft|     M|\n",
      "| 99642|Abner|1920|     M|   AL|    8|   42040|    Abner|     John Castle|     M|\n",
      "| 99642|Abner|1920|     M|   AL|    8|   95504|    Abner|     Peter Miles|     M|\n",
      "| 99642|Abner|1920|     M|   AL|    8|    2734|    Abner|Richard Ashcroft|     M|\n",
      "|100283|Abner|1921|     M|   AL|    6|   42040|    Abner|     John Castle|     M|\n",
      "|100283|Abner|1921|     M|   AL|    6|   95504|    Abner|     Peter Miles|     M|\n",
      "|100283|Abner|1921|     M|   AL|    6|    2734|    Abner|Richard Ashcroft|     M|\n",
      "|100836|Abner|1922|     M|   AL|    6|   42040|    Abner|     John Castle|     M|\n",
      "|100836|Abner|1922|     M|   AL|    6|   95504|    Abner|     Peter Miles|     M|\n",
      "|100836|Abner|1922|     M|   AL|    6|    2734|    Abner|Richard Ashcroft|     M|\n",
      "|101353|Abner|1923|     M|   AL|    7|   42040|    Abner|     John Castle|     M|\n",
      "|101353|Abner|1923|     M|   AL|    7|   95504|    Abner|     Peter Miles|     M|\n",
      "|101353|Abner|1923|     M|   AL|    7|    2734|    Abner|Richard Ashcroft|     M|\n",
      "|103016|Abner|1926|     M|   AL|    6|   42040|    Abner|     John Castle|     M|\n",
      "|103016|Abner|1926|     M|   AL|    6|   95504|    Abner|     Peter Miles|     M|\n",
      "+------+-----+----+------+-----+-----+--------+---------+----------------+------+\n",
>>>>>>> 87848268c6a3490720e627ffc2f52c08e204692c
      "only showing top 20 rows\n",
      "\n"
     ]
    }
   ],
   "source": [
    "inner_join = babynames_state.join(credits, babynames_state.Name == credits.character)\n",
    "inner_join.show()"
   ]
  },
  {
   "cell_type": "code",
<<<<<<< HEAD
   "execution_count": 12,
=======
   "execution_count": 75,
>>>>>>> 87848268c6a3490720e627ffc2f52c08e204692c
   "metadata": {},
   "outputs": [
    {
     "name": "stdout",
     "output_type": "stream",
     "text": [
      "+--------+--------------------+-----------------+--------------------+--------+--------------------+----------+\n",
      "|movie_id|               title|original_language|              genres|released|          collection|popularity|\n",
      "+--------+--------------------+-----------------+--------------------+--------+--------------------+----------+\n",
      "|     671|Harry Potter and ...|               en|Adventure, Fantas...|    2001|Harry Potter Coll...| 38.187238|\n",
      "|     672|Harry Potter and ...|               en|Adventure, Fantas...|    2002|Harry Potter Coll...| 29.741452|\n",
      "|     673|Harry Potter and ...|               en|Adventure, Fantas...|    2004|Harry Potter Coll...| 28.460276|\n",
      "|     674|Harry Potter and ...|               en|Adventure, Fantas...|    2005|Harry Potter Coll...| 24.903058|\n",
      "|     675|Harry Potter and ...|               en|Adventure, Fantas...|    2007|Harry Potter Coll...|   21.3643|\n",
      "|     767|Harry Potter and ...|               en|Adventure, Fantas...|    2009|Harry Potter Coll...| 19.083723|\n",
      "|   12444|Harry Potter and ...|               en|Adventure, Fantas...|    2010|Harry Potter Coll...| 23.300362|\n",
      "|   12445|Harry Potter and ...|               en|Family, Fantasy, ...|    2011|Harry Potter Coll...| 24.990737|\n",
      "+--------+--------------------+-----------------+--------------------+--------+--------------------+----------+\n",
      "\n"
     ]
    }
   ],
   "source": [
    "movie = metadata_movies.filter(metadata_movies.collection.contains(\"Harry Potter\")).orderBy('released', ascending=True)\n",
    "movie.show()"
   ]
  },
  {
   "cell_type": "code",
<<<<<<< HEAD
   "execution_count": 48,
   "metadata": {},
   "outputs": [
    {
     "data": {
      "text/plain": [
       "[<matplotlib.lines.Line2D at 0x128d866a0>]"
      ]
     },
     "execution_count": 48,
     "metadata": {},
     "output_type": "execute_result"
    },
=======
   "execution_count": 76,
   "metadata": {},
   "outputs": [
    {
     "name": "stdout",
     "output_type": "stream",
     "text": [
      "[2001, 2002, 2004, 2005, 2007, 2009, 2010, 2011]\n"
     ]
    }
   ],
   "source": [
    "movie_released = [int(row.released) for row in movie.select('released').collect()]\n",
    "print(movie_released)"
   ]
  },
  {
   "cell_type": "markdown",
   "metadata": {},
   "source": [
    "Jaren vanaf de 5 jaar voor de release tot 5 jaar na de release"
   ]
  },
  {
   "cell_type": "code",
   "execution_count": 77,
   "metadata": {},
   "outputs": [
>>>>>>> 87848268c6a3490720e627ffc2f52c08e204692c
    {
     "data": {
      "image/png": "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\n",
      "text/plain": [
       "<Figure size 1080x360 with 2 Axes>"
      ]
     },
     "metadata": {
      "needs_background": "light"
     },
     "output_type": "display_data"
    }
   ],
   "source": [
    "movie_released = [int(row.released) for row in movie.select('released').collect()]\n",
    "\n",
    "# Jaren vanaf de 5 jaar voor de release tot 5 jaar na de release\n",
    "years = [ x for x in range(movie_released[0] - 5, movie_released[len(movie_released)-1]+5)]\n",
<<<<<<< HEAD
    "\n",
=======
    "print(years)"
   ]
  },
  {
   "cell_type": "code",
   "execution_count": 78,
   "metadata": {},
   "outputs": [
    {
     "name": "stdout",
     "output_type": "stream",
     "text": [
      "[671, 672, 673, 674, 675, 767, 12444, 12445]\n"
     ]
    }
   ],
   "source": [
>>>>>>> 87848268c6a3490720e627ffc2f52c08e204692c
    "movie_id = [int(row.movie_id) for row in movie.select('movie_id').collect()]\n",
    "\n",
    "movie_credits = credits.where(F.col(\"movie_id\").isin(movie_id)).dropDuplicates(['character'])\n",
    "character_split = F.split(movie_credits['character'], ' ')\n",
    "actor_split = F.split(movie_credits['actor'], ' ')\n",
    "movie_credits = movie_credits.withColumn(\"character\", character_split.getItem(0))\n",
    "movie_credits = movie_credits.withColumn(\"actor\", actor_split.getItem(0))\n",
    "\n",
    "movie_characters = [row.character for row in movie_credits.select('character').collect()]\n",
    "movie_babynames_table_character = babynames_national.where(F.col(\"Name\").isin(movie_characters)).where(F.col('Year').isin(years))\n",
    "movie_babynames_table_character = movie_babynames_table_character.groupBy('Year', 'Year').agg(F.sum('Count').alias('Count')).orderBy('Year')\n",
    "\n",
    "movie_actors = [row.actor for row in movie_credits.select('actor').collect()]\n",
    "movie_babynames_table_actor = babynames_national.where(F.col(\"Name\").isin(movie_actors)).where(F.col('Year').isin(years))\n",
    "movie_babynames_table_actor = movie_babynames_table_actor.groupBy('Year', 'Year').agg(F.sum('Count').alias('Count')).orderBy('Year')\n",
    "\n",
    "babynames_count_character = [int(row.Count) for row in movie_babynames_table_character.select('Count').collect()]\n",
    "babynames_count_actor = [int(row.Count) for row in movie_babynames_table_actor.select('Count').collect()]\n",
    "\n",
    "years = [int(row.Year) for row in movie_babynames_table.select('Year').collect()]\n",
    "fig = plt.figure(figsize=(15,5))\n",
    "\n",
    "plt_on_actor = fig.add_subplot(121)\n",
    "plt_on_character = fig.add_subplot(122)\n",
    "\n",
    "for xc in movie_released:\n",
    "    plt_on_character.axvline(x=xc)\n",
    "    plt_on_actor.axvline(x=xc)\n",
    "    \n",
    "fig.suptitle('Popularity of babynames out of the Harry Potter franchise' + '\\n'\n",
    "            + 'left: actor names - right: character names')\n",
    "\n",
    "plt_on_character.plot(years, babynames_count_character)\n",
    "plt_on_actor.plot(years, babynames_count_actor)"
   ]
  },
  {
   "cell_type": "code",
<<<<<<< HEAD
   "execution_count": 55,
=======
   "execution_count": 79,
>>>>>>> 87848268c6a3490720e627ffc2f52c08e204692c
   "metadata": {},
   "outputs": [
    {
     "name": "stdout",
     "output_type": "stream",
     "text": [
      "+--------+---------+--------+---------+\n",
      "|movie_id|character|   actor|   gender|\n",
      "+--------+---------+--------+---------+\n",
      "|   12445|     Twin|    Ruby|Undefined|\n",
      "|   12445|   Alecto|   Suzie|Undefined|\n",
      "|   12445|    James|    Will|Undefined|\n",
      "|   12445|    Giant|  Philip|Undefined|\n",
      "|   12445|    Young|Benedict|Undefined|\n",
      "|   12445|    Young|   Ellie|Undefined|\n",
      "|   12445|     Aged|   Rusty|Undefined|\n",
      "|   12445|   Leanne|Isabella|Undefined|\n",
      "|   12445|    Nigel| William|Undefined|\n",
      "|   12445|   Ariana|    Hebe|Undefined|\n",
      "|   12445|     Twin|   Amber|Undefined|\n",
      "|   12445|    Young|   Alfie|Undefined|\n",
      "|   12445|     Lily|  Daphne|Undefined|\n",
      "|   12445|Hogsmeade|    Benn|Undefined|\n",
      "|   12445| Scorpius|  Bertie|Undefined|\n",
      "|   12445|    Death|Penelope|Undefined|\n",
      "|   12445|   Bogrod|     Jon|Undefined|\n",
      "|   12445|     Hugo|    Ryan|Undefined|\n",
      "|   12445|    Albus|  Arthur|Undefined|\n",
      "|   12445|Screaming|    Sian|Undefined|\n",
      "+--------+---------+--------+---------+\n",
      "only showing top 20 rows\n",
      "\n"
     ]
    }
   ],
   "source": [
<<<<<<< HEAD
    "movie_credits_female = movie_credits.filter(movie_credits.gender.contains('F'))\n",
    "movie_credits_male = movie_credits.filter(movie_credits.gender.contains('M'))\n"
=======
    "movie_credits = credits.where(F.col(\"movie_id\").isin(movie_id)).dropDuplicates(['character'])\n",
    "character_split = F.split(movie_credits['character'], ' ')\n",
    "movie_credits = movie_credits.withColumn(\"character\", character_split.getItem(0))\n",
    "movie_credits.show()"
   ]
  },
  {
   "cell_type": "code",
   "execution_count": 80,
   "metadata": {},
   "outputs": [],
   "source": [
    "# luke_table = babynames_national.filter(babynames_national.Name.like(\"Luke\"))\n",
    "# luke_table = luke_table.filter(F.col('Year').isin(years))\n",
    "# luke_table = luke_table.groupBy('Year', 'Year').agg(F.sum('Count').alias('Count')).orderBy('Year')\n",
    "\n",
    "# luke_count = [int(row.Count) for row in luke_table.select('Count').collect()]\n",
    "# years = [int(row.Year) for row in luke_table.select('Year').collect()]\n",
    "# fig = plt.figure(figsize=(15, 5))\n",
    "# plt1 = fig.add_subplot(121)\n",
    "# plt1.plot(years, luke_count)"
>>>>>>> 87848268c6a3490720e627ffc2f52c08e204692c
   ]
  },
  {
   "cell_type": "code",
<<<<<<< HEAD
   "execution_count": null,
=======
   "execution_count": 81,
>>>>>>> 87848268c6a3490720e627ffc2f52c08e204692c
   "metadata": {},
   "outputs": [],
   "source": [
    "#bar chart - showing male count and female count per year"
   ]
<<<<<<< HEAD
=======
  },
  {
   "cell_type": "code",
   "execution_count": 82,
   "metadata": {},
   "outputs": [
    {
     "data": {
      "text/plain": [
       "[<matplotlib.lines.Line2D at 0x1ca954b9908>]"
      ]
     },
     "execution_count": 82,
     "metadata": {},
     "output_type": "execute_result"
    },
    {
     "data": {
      "image/png": "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\n",
      "text/plain": [
       "<Figure size 1080x360 with 1 Axes>"
      ]
     },
     "metadata": {
      "needs_background": "light"
     },
     "output_type": "display_data"
    }
   ],
   "source": [
    "babynames_count = [int(row.Count) for row in movie_babynames_table.select('Count').collect()]\n",
    "years = [int(row.Year) for row in movie_babynames_table.select('Year').collect()]\n",
    "fig = plt.figure(figsize=(15,5))\n",
    "plt1 = fig.add_subplot(121)\n",
    "plt1.plot(years, babynames_count)"
   ]
  },
  {
   "cell_type": "code",
   "execution_count": 92,
   "metadata": {},
   "outputs": [
    {
     "name": "stdout",
     "output_type": "stream",
     "text": [
      "+--------+---------+--------------------+---------+\n",
      "|movie_id|character|               actor|   gender|\n",
      "+--------+---------+--------------------+---------+\n",
      "|  281338|     Lang|Mercedes de la Zerda|Undefined|\n",
      "|  281338|      The|     Woody Harrelson|        M|\n",
      "|  281338|     Lake|        Sara Canning|        F|\n",
      "|  281338|   Rocket|        Terry Notary|Undefined|\n",
      "|  281338|    Boyle|           Chad Rook|        M|\n",
      "|  281338|     Blue|     Max Lloyd-Jones|        M|\n",
      "|  281338|  Maurice|       Karin Konoval|        F|\n",
      "|  281338|    Elder|      Timothy Webber|        M|\n",
      "|  281338| Cornelia|          Judy Greer|        F|\n",
      "|  281338|     Nova|        Amiah Miller|        F|\n",
      "|  281338|Cornelius|        Devyn Dalton|Undefined|\n",
      "|  281338|      Bad|          Steve Zahn|        M|\n",
      "|  281338|     Koba|        Toby Kebbell|        M|\n",
      "|  281338|    Spear|  Alessandro Juliani|        M|\n",
      "|  281338|     Luca| Michael Adamthwaite|        M|\n",
      "|  281338| Preacher|   Gabriel Chavarria|Undefined|\n",
      "|  281338|   Winter|      Aleks Paunovic|        M|\n",
      "|  281338|  Captain|         Roger Cross|        M|\n",
      "|  281338|      Red|           Ty Olsson|        M|\n",
      "|  281338|   Caesar|         Andy Serkis|        M|\n",
      "+--------+---------+--------------------+---------+\n",
      "\n",
      "+--------+--------------------+-----------------+--------------------+--------+--------------------+----------+\n",
      "|movie_id|               title|original_language|              genres|released|          collection|popularity|\n",
      "+--------+--------------------+-----------------+--------------------+--------+--------------------+----------+\n",
      "|     155|     The Dark Knight|               en|Drama, Action, Cr...|    2008|The Dark Knight C...|123.167259|\n",
      "|  166426|Pirates of the Ca...|               en|Adventure, Action...|    2017|Pirates of the Ca...| 133.82782|\n",
      "|     680|        Pulp Fiction|               en|     Thriller, Crime|    1994|                null|140.950236|\n",
      "|  271110|Captain America: ...|               en|Adventure, Action...|    2016|Captain America C...|145.882135|\n",
      "|  281338|War for the Plane...|               en|Drama, Science Fi...|    2017|Planet of the Ape...|146.161786|\n",
      "|  131631|The Hunger Games:...|               en|Science Fiction, ...|    2014|The Hunger Games ...|147.098006|\n",
      "|  210577|           Gone Girl|               en|Mystery, Thriller...|    2014|                null|154.801009|\n",
      "+--------+--------------------+-----------------+--------------------+--------+--------------------+----------+\n",
      "\n"
     ]
    }
   ],
   "source": [
    "popular_movies = metadata_movies.filter(metadata_movies.popularity > 15).orderBy('popularity').limit(7)\n",
    "pop_movies_id = [155,166426,680,271110,281338,131631,210577]\n",
    "popular_movie_credits = credits.where(F.col(\"movie_id\").isin(pop_movies_id)).dropDuplicates(['character'])\n",
    "select_popular_movies = popular_movies.where(F.col(\"movie_id\").isin(pop_movies_id))\n",
    "character_split = F.split(popular_movie_credits['character'], ' ')\n",
    "popular_movie_credits = popular_movie_credits.withColumn(\"character\", character_split.getItem(0))\n",
    "#popular_movie_credits.show()\n",
    "#popular_movies.show()\n"
   ]
  },
  {
   "cell_type": "code",
   "execution_count": 101,
   "metadata": {},
   "outputs": [
    {
     "data": {
      "text/plain": [
       "[<matplotlib.lines.Line2D at 0x1ca95592048>]"
      ]
     },
     "execution_count": 101,
     "metadata": {},
     "output_type": "execute_result"
    },
    {
     "data": {
      "image/png": "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\n",
      "text/plain": [
       "<Figure size 1080x360 with 1 Axes>"
      ]
     },
     "metadata": {
      "needs_background": "light"
     },
     "output_type": "display_data"
    }
   ],
   "source": [
    "popular_movie_characters = [row.character for row in popular_movie_credits.select('character').collect()]\n",
    "specific_babynames_table = babynames_national.where(F.col(\"Name\").isin(popular_movie_characters)).where(F.col('Year').isin(years))\n",
    "specific_babynames_table = specific_babynames_table.groupBy('Year', 'Year').agg(F.sum('Count').alias('Count')).orderBy('Year')\n",
    "specific_names_count = [int(row.Count) for row in specific_babynames_table.select('Count').collect()]\n",
    "specific_names_years = [int(row.Year) for row in specific_babynames_table.select('Year').collect()]\n",
    "specific_names_fig = plt.figure(figsize=(15,5))\n",
    "specific_names_graph = specific_names_fig.add_subplot(121)\n",
    "specific_names_graph.plot(specific_names_years, specific_names_count)"
   ]
  },
  {
   "cell_type": "code",
   "execution_count": null,
   "metadata": {},
   "outputs": [],
   "source": []
>>>>>>> 87848268c6a3490720e627ffc2f52c08e204692c
  }
 ],
 "metadata": {
  "kernelspec": {
   "display_name": "Python 3",
   "language": "python",
   "name": "python3"
  },
  "language_info": {
   "codemirror_mode": {
    "name": "ipython",
    "version": 3
   },
   "file_extension": ".py",
   "mimetype": "text/x-python",
   "name": "python",
   "nbconvert_exporter": "python",
   "pygments_lexer": "ipython3",
   "version": "3.7.3"
  }
 },
 "nbformat": 4,
 "nbformat_minor": 2
}
